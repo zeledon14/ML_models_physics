{
 "cells": [
  {
   "cell_type": "code",
   "execution_count": 1,
   "metadata": {
    "collapsed": true
   },
   "outputs": [],
   "source": [
    "import numpy as np\n",
    "from sklearn import preprocessing\n",
    "import re\n",
    "import os\n",
    "import matplotlib.pyplot as plt\n",
    "from sklearn import ensemble\n",
    "from sklearn.metrics import mean_squared_error\n",
    "from sklearn.metrics import mean_absolute_error"
   ]
  },
  {
   "cell_type": "code",
   "execution_count": 2,
   "metadata": {
    "collapsed": true
   },
   "outputs": [],
   "source": [
    "enert= np.load('../../data_features/c7o2h12_data/internal_energy_T_298_C7O2H12.npy')\n",
    "G= np.load('../../data_features/c7o2h12_data/bob_C7O2H12_171.npy')\n",
    "numb_atoms= np.load('../../data_features/c7o2h12_data/number_of_atoms_per_structure_C7O2H12.npy')\n",
    "g_st= preprocessing.MaxAbsScaler().fit_transform(G)\n",
    "G_scaled= g_st\n",
    "E=np.reshape(enert,(len(enert),1))\n",
    "\n",
    "mixer= np.array(range(G_scaled.shape[0]))\n",
    "for _ in range(10000):\n",
    "    np.random.shuffle(mixer)\n",
    "n= int(len(mixer)*0.75) # marking the 90%\n",
    "G_train_scaled= G_scaled[mixer[:n]]\n",
    "G_vali_scaled= G_scaled[mixer[n:]]\n",
    "E_train= E[mixer[:n]]\n",
    "E_vali= E[mixer[n:]]\n",
    "trai_id= mixer[:n]\n",
    "vali_id= mixer[n:]"
   ]
  },
  {
   "cell_type": "code",
   "execution_count": 3,
   "metadata": {
    "collapsed": false
   },
   "outputs": [
    {
     "name": "stderr",
     "output_type": "stream",
     "text": [
      "/home/accounts/zeledon/anaconda2/lib/python2.7/site-packages/sklearn/utils/validation.py:761: DataConversionWarning: A column-vector y was passed when a 1d array was expected. Please change the shape of y to (n_samples, ), for example using ravel().\n",
      "  y = column_or_1d(y, warn=True)\n"
     ]
    }
   ],
   "source": [
    "n_estimators= [400, 500, 600]\n",
    "max_depth= [3, 5, 7]\n",
    "learning_rate= [0.8, 0.11, 0.15]\n",
    "parameters_arra= []\n",
    "mae_arra= []\n",
    "for ne in n_estimators:\n",
    "    for md in max_depth:\n",
    "        for lr in learning_rate:\n",
    "        \n",
    "            params = {'n_estimators': ne, 'max_depth': md, 'min_samples_split': 3,\n",
    "                      'learning_rate': lr, 'loss': 'ls', 'min_samples_leaf':3}\n",
    "            parameters_arra.append(params)\n",
    "            clf = ensemble.GradientBoostingRegressor(**params)\n",
    "\n",
    "            clf.fit(G_train_scaled, E_train)\n",
    "            mae_arra.append(mean_absolute_error(E_vali, clf.predict(G_vali_scaled)))\n",
    "            \n",
    "mae_arra= np.array(mae_arra)"
   ]
  },
  {
   "cell_type": "code",
   "execution_count": 6,
   "metadata": {
    "collapsed": false
   },
   "outputs": [
    {
     "name": "stdout",
     "output_type": "stream",
     "text": [
      "0.00705522252556\n",
      "{'loss': 'ls', 'learning_rate': 0.15, 'min_samples_leaf': 3, 'n_estimators': 600, 'min_samples_split': 3, 'max_depth': 3}\n"
     ]
    }
   ],
   "source": [
    "id_para= np.argsort(mae_arra)\n",
    "print mae_arra[id_para[0]]\n",
    "print parameters_arra[id_para[0]]"
   ]
  },
  {
   "cell_type": "code",
   "execution_count": 14,
   "metadata": {
    "collapsed": false
   },
   "outputs": [
    {
     "data": {
      "image/png": "[encoded data removed]",
      "text/plain": [
       "<matplotlib.figure.Figure at 0x7f4ebb235910>"
      ]
     },
     "metadata": {},
     "output_type": "display_data"
    }
   ],
   "source": [
    "plt.plot(mae_arra, '*b')\n",
    "plt.savefig('model_selection_bob_c7o2h12_internal_E_mae_model.pdf', format='pdf', bbox_inches='tight')\n",
    "plt.show()"
   ]
  },
  {
   "cell_type": "code",
   "execution_count": 8,
   "metadata": {
    "collapsed": false
   },
   "outputs": [
    {
     "name": "stdout",
     "output_type": "stream",
     "text": [
      "*********************\n",
      "g_st  (6095, 171)\n",
      "enert  (6095,)\n"
     ]
    }
   ],
   "source": [
    "numb_feat='171'\n",
    "exp_name='int_E_T_298_c7o2h12_2'\n",
    "feat_type='bob'\n",
    "enert= np.load('../../data_features/c7o2h12_data/internal_energy_T_298_C7O2H12.npy')\n",
    "G= np.load('../../data_features/c7o2h12_data/bob_C7O2H12_171.npy')\n",
    "numb_atoms= np.load('../../data_features/c7o2h12_data/number_of_atoms_per_structure_C7O2H12.npy')\n",
    "g_st= preprocessing.MaxAbsScaler().fit_transform(G)\n",
    "print '*********************'\n",
    "print 'g_st ', g_st.shape\n",
    "print 'enert ', enert.shape\n",
    "np.save('g_scaled_%s_%s_%s'%(feat_type,numb_feat,exp_name), g_st)"
   ]
  },
  {
   "cell_type": "code",
   "execution_count": 9,
   "metadata": {
    "collapsed": false
   },
   "outputs": [
    {
     "name": "stdout",
     "output_type": "stream",
     "text": [
      "(6095, 1)\n",
      "(6095, 171)\n",
      "G_train_scaled-> (4571, 171)\n",
      "G_vali_scaled-> (1524, 171)\n",
      "E_train-> (4571, 1)\n",
      "E_vali-> (1524, 1)\n"
     ]
    }
   ],
   "source": [
    "#G_scaled= g_st[:20000,:]\n",
    "#E=np.reshape(enert[:20000],(len(enert[:20000]),1))\n",
    "G_scaled= g_st\n",
    "E=np.reshape(enert,(len(enert),1))\n",
    "print E.shape\n",
    "print G_scaled.shape\n",
    "\n",
    "mixer= np.array(range(G_scaled.shape[0]))\n",
    "for _ in range(10000):\n",
    "    np.random.shuffle(mixer)\n",
    "n= int(len(mixer)*0.75) # marking the 90%\n",
    "G_train_scaled= G_scaled[mixer[:n]]\n",
    "G_vali_scaled= G_scaled[mixer[n:]]\n",
    "E_train= E[mixer[:n]]\n",
    "E_vali= E[mixer[n:]]\n",
    "trai_id= mixer[:n]\n",
    "vali_id= mixer[n:]\n",
    "print 'G_train_scaled->', G_train_scaled.shape\n",
    "print 'G_vali_scaled->', G_vali_scaled.shape\n",
    "print 'E_train->', E_train.shape\n",
    "print 'E_vali->', E_vali.shape\n",
    "\n",
    "np.save('E_targ_%s_%s_%s'%(feat_type,numb_feat,exp_name), E)\n",
    "np.save('trai_id_%s_%s_%s'%(feat_type,numb_feat,exp_name), trai_id)\n",
    "np.save('vali_id_%s_%s_%s'%(feat_type,numb_feat,exp_name), vali_id)"
   ]
  },
  {
   "cell_type": "code",
   "execution_count": 10,
   "metadata": {
    "collapsed": false
   },
   "outputs": [
    {
     "name": "stdout",
     "output_type": "stream",
     "text": [
      "val MSE: 0.0001 MAE 0.0070\n",
      "tra MSE: 0.0000 MAE 0.0023\n"
     ]
    }
   ],
   "source": [
    "params =parameters_arra[id_para[0]]\n",
    "\n",
    "clf = ensemble.GradientBoostingRegressor(**params)\n",
    "\n",
    "clf.fit(G_train_scaled, E_train)\n",
    "mse = mean_squared_error(E_vali, clf.predict(G_vali_scaled))\n",
    "mae= mean_absolute_error(E_vali, clf.predict(G_vali_scaled))\n",
    "print(\"val MSE: %.4f MAE %.4f\" % (mse,mae))\n",
    "mse = mean_squared_error(E_train, clf.predict(G_train_scaled))\n",
    "mae= mean_absolute_error(E_train, clf.predict(G_train_scaled))\n",
    "print(\"tra MSE: %.4f MAE %.4f\" % (mse,mae))"
   ]
  },
  {
   "cell_type": "code",
   "execution_count": 11,
   "metadata": {
    "collapsed": false
   },
   "outputs": [
    {
     "name": "stdout",
     "output_type": "stream",
     "text": [
      "val MSE: 0.0000902 MAE 0.00696\n",
      "tra MSE: 0.0000088 MAE 0.00232\n"
     ]
    }
   ],
   "source": [
    "mse = mean_squared_error(E_vali, clf.predict(G_vali_scaled))\n",
    "mae= mean_absolute_error(E_vali, clf.predict(G_vali_scaled))\n",
    "print(\"val MSE: %.7f MAE %.5f\" % (mse,mae))\n",
    "mse = mean_squared_error(E_train, clf.predict(G_train_scaled))\n",
    "mae= mean_absolute_error(E_train, clf.predict(G_train_scaled))\n",
    "print(\"tra MSE: %.7f MAE %.5f\" % (mse,mae))"
   ]
  },
  {
   "cell_type": "code",
   "execution_count": 12,
   "metadata": {
    "collapsed": false
   },
   "outputs": [
    {
     "name": "stdout",
     "output_type": "stream",
     "text": [
      "(6095,)\n",
      "(6095, 1)\n",
      "(6095,)\n",
      "(6095,)\n"
     ]
    }
   ],
   "source": [
    "Ep= clf.predict(g_st)\n",
    "print Ep.shape\n",
    "print E.shape\n",
    "\n",
    "Et= np.squeeze(E)\n",
    "print Et.shape\n",
    "\n",
    "print numb_atoms.shape\n",
    "\n",
    "diff_abs_vali= np.abs(np.divide(np.subtract(Et[vali_id], Ep[vali_id]),numb_atoms[vali_id]))#hartree/atom\n",
    "\n",
    "diff_abs_trai= np.abs(np.divide(np.subtract(Et[trai_id], Ep[trai_id]),numb_atoms[trai_id]))#hartree/atom"
   ]
  },
  {
   "cell_type": "code",
   "execution_count": 13,
   "metadata": {
    "collapsed": false
   },
   "outputs": [],
   "source": [
    "diff_abs= np.abs(np.divide(np.subtract(Et, Ep),numb_atoms))#hartree/atom\n",
    "diff_abs_kcal_mol= np.multiply(diff_abs, 627.55)#kcal/mol\n",
    "np.save('E_pred_%s_%s_%s'%(feat_type,numb_feat,exp_name), Ep)\n",
    "np.save('diff_abs_kcal_mol_%s_%s_%s'%(feat_type,numb_feat,exp_name), diff_abs_kcal_mol)\n",
    "\n",
    "diff_abs_vali_kcal_mol= np.multiply(diff_abs_vali, 627.55)#kcal/mol\n",
    "\n",
    "diff_abs_trai_kcal_mol= np.multiply(diff_abs_trai, 627.55)#kcal/mol\n",
    "\n",
    "np.save('E_pred_%s_%s_%s'%(feat_type,numb_feat,exp_name), Ep)\n",
    "diff_abs= np.abs(np.divide(np.subtract(Et, Ep),numb_atoms))#hartree/atom\n",
    "\n",
    "np.save('trai_id_%s_%s_%s'%(feat_type,numb_feat,exp_name), trai_id)\n",
    "np.save('vali_id_%s_%s_%s'%(feat_type,numb_feat,exp_name), vali_id)"
   ]
  },
  {
   "cell_type": "code",
   "execution_count": null,
   "metadata": {
    "collapsed": true
   },
   "outputs": [],
   "source": []
  },
  {
   "cell_type": "code",
   "execution_count": null,
   "metadata": {
    "collapsed": true
   },
   "outputs": [],
   "source": []
  },
  {
   "cell_type": "code",
   "execution_count": null,
   "metadata": {
    "collapsed": true
   },
   "outputs": [],
   "source": []
  },
  {
   "cell_type": "code",
   "execution_count": 6,
   "metadata": {
    "collapsed": false
   },
   "outputs": [
    {
     "data": {
      "image/png": "[encoded data removed]",
      "text/plain": [
       "<matplotlib.figure.Figure at 0x7f4414104110>"
      ]
     },
     "metadata": {},
     "output_type": "display_data"
    },
    {
     "data": {
      "image/png": "[encoded data removed]",
      "text/plain": [
       "<matplotlib.figure.Figure at 0x7f4413f99ed0>"
      ]
     },
     "metadata": {},
     "output_type": "display_data"
    },
    {
     "name": "stdout",
     "output_type": "stream",
     "text": [
      "MSE: 0.0000\n"
     ]
    }
   ],
   "source": [
    "Ebr_vali= clf.predict(G_vali_scaled)\n",
    "\n",
    "Ebr_train= clf.predict(G_train_scaled)\n",
    "\n",
    "plt.plot(Ebr_vali, np.squeeze(E_vali), '*g', Ebr_train, Ebr_train, '*b')\n",
    "plt.show()\n",
    "\n",
    "plt.plot(Ebr_vali, np.squeeze(E_vali), '*g')#, Ebr_vali, Ebr_vali, '*b')\n",
    "plt.show()\n",
    "\n",
    "mse = mean_squared_error(E_train, clf.predict(G_train_scaled))\n",
    "print(\"MSE: %.4f\" % mse)"
   ]
  },
  {
   "cell_type": "code",
   "execution_count": 5,
   "metadata": {
    "collapsed": true
   },
   "outputs": [],
   "source": [
    "np.save('E_pred_%s_%s_%s'%(feat_type,numb_feat,exp_name), clf.predict(g_st))"
   ]
  },
  {
   "cell_type": "code",
   "execution_count": 8,
   "metadata": {
    "collapsed": false
   },
   "outputs": [
    {
     "name": "stdout",
     "output_type": "stream",
     "text": [
      "1.33247981823\n",
      "1.07495264268e-05\n",
      "0.134044541276\n"
     ]
    },
    {
     "data": {
      "image/png": "[encoded data removed]",
      "text/plain": [
       "<matplotlib.figure.Figure at 0x7f62d8542290>"
      ]
     },
     "metadata": {},
     "output_type": "display_data"
    }
   ],
   "source": [
    "diff_vali= np.abs(np.subtract(Ebr_vali, np.squeeze(E_vali)))\n",
    "print np.max(diff_vali)\n",
    "print np.min(diff_vali)\n",
    "diff_vali_aver= np.average(diff_vali)\n",
    "print diff_vali_aver\n",
    "\n",
    "n, bins, patches = plt.hist(diff_vali, 300, facecolor='g', alpha=0.75)\n",
    "plt.axis([0.0, 1.0, 0, 0.15])\n",
    "for item in patches:\n",
    "    item.set_height(item.get_height()/sum(n))\n",
    "plt.show()"
   ]
  },
  {
   "cell_type": "code",
   "execution_count": 8,
   "metadata": {
    "collapsed": false
   },
   "outputs": [
    {
     "name": "stdout",
     "output_type": "stream",
     "text": [
      "(240, 1)\n"
     ]
    }
   ],
   "source": [
    "print E_vali.shape\n",
    "E_vali1d= np.squeeze(E_vali)"
   ]
  },
  {
   "cell_type": "code",
   "execution_count": 9,
   "metadata": {
    "collapsed": false
   },
   "outputs": [
    {
     "name": "stdout",
     "output_type": "stream",
     "text": [
      "(240,)\n"
     ]
    }
   ],
   "source": [
    "E_b= clf.predict(G_vali_scaled)\n",
    "print E_b.shape"
   ]
  },
  {
   "cell_type": "code",
   "execution_count": 10,
   "metadata": {
    "collapsed": false
   },
   "outputs": [
    {
     "name": "stdout",
     "output_type": "stream",
     "text": [
      "0.020570270253\n"
     ]
    }
   ],
   "source": [
    "print np.average(np.abs(np.subtract(E_vali1d, E_b)))"
   ]
  },
  {
   "cell_type": "code",
   "execution_count": 65,
   "metadata": {
    "collapsed": false
   },
   "outputs": [],
   "source": [
    "np.save('../analysis/diff_vali_grad_bost_X_oni_48', diff_vali)"
   ]
  },
  {
   "cell_type": "code",
   "execution_count": 12,
   "metadata": {
    "collapsed": false
   },
   "outputs": [
    {
     "data": {
      "image/png": "[encoded data removed]",
      "text/plain": [
       "<matplotlib.figure.Figure at 0x7ff5a21cfb90>"
      ]
     },
     "metadata": {},
     "output_type": "display_data"
    }
   ],
   "source": [
    "plt.plot(Ebr_vali, np.squeeze(E_vali), '*g')\n",
    "plt.show()"
   ]
  },
  {
   "cell_type": "code",
   "execution_count": 12,
   "metadata": {
    "collapsed": false
   },
   "outputs": [],
   "source": [
    "np.save('g_vali_scaled', G_vali_scaled)\n",
    "np.save('E_vali', E_vali)\n",
    "np.save('g_trai_scaled', G_train_scaled)\n",
    "np.save('E_trai', E_train)\n",
    "np.save('E_vali_pred', clf.predict(G_vali_scaled))"
   ]
  },
  {
   "cell_type": "code",
   "execution_count": 13,
   "metadata": {
    "collapsed": true
   },
   "outputs": [],
   "source": [
    "np.save('E_vali_pred', clf.predict(G_vali_scaled))"
   ]
  },
  {
   "cell_type": "code",
   "execution_count": null,
   "metadata": {
    "collapsed": true
   },
   "outputs": [],
   "source": []
  }
 ],
 "metadata": {
  "kernelspec": {
   "display_name": "Python [conda root]",
   "language": "python",
   "name": "conda-root-py"
  },
  "language_info": {
   "codemirror_mode": {
    "name": "ipython",
    "version": 2
   },
   "file_extension": ".py",
   "mimetype": "text/x-python",
   "name": "python",
   "nbconvert_exporter": "python",
   "pygments_lexer": "ipython2",
   "version": "2.7.13"
  }
 },
 "nbformat": 4,
 "nbformat_minor": 2
}
