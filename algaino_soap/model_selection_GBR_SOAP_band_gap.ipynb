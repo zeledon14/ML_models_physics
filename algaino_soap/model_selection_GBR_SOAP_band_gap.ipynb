{
 "cells": [
  {
   "cell_type": "code",
   "execution_count": 1,
   "metadata": {
    "collapsed": true
   },
   "outputs": [],
   "source": [
    "#siff (fbp)\n",
    "#feat 640 with 0.75 mae 0.128280769925\n",
    "#feat 640 with 0.55 mae 0.134560355948\n",
    "#feat 816 with 0.80 mae 0.122912618764 {lr': 0.12, 'min_samp_leaf': 4, 'n_est': 400, 'min_samp_split': 4, 'md': 7}\n",
    "#feat 1744  0.131911446169 {'loss': 'ls', 'learning_rate': 0.109, 'min_samples_leaf': 4, \n",
    "#'n_estimators': 500, 'min_samples_split': 4, 'max_depth': 7}\n",
    "\n",
    "#feat 1120_2b 0.119567786613\n",
    "#{'loss': 'ls', 'learning_rate': 0.12, 'min_samples_leaf': 4, 'n_estimators': 500, \n",
    "#'min_samples_split': 4, 'max_depth': 5}\n",
    "\n",
    "#fbp_1120_2b  0.12677624735\n",
    "#{'loss': 'ls', 'learning_rate': 0.12, 'min_samples_leaf': 5, 'n_estimators': 400, \n",
    "# 'min_samples_split': 5, 'max_depth': 6}\n",
    "\n",
    "#SOAP"
   ]
  },
  {
   "cell_type": "code",
   "execution_count": 1,
   "metadata": {
    "collapsed": true
   },
   "outputs": [],
   "source": [
    "import numpy as np\n",
    "from sklearn import preprocessing\n",
    "import re\n",
    "import os\n",
    "import matplotlib.pyplot as plt\n",
    "from sklearn import ensemble\n",
    "from sklearn.metrics import mean_squared_error\n",
    "from sklearn.metrics import mean_absolute_error"
   ]
  },
  {
   "cell_type": "code",
   "execution_count": 2,
   "metadata": {
    "collapsed": true
   },
   "outputs": [],
   "source": [
    "#enert= np.load('../fbp_features/bg_1120.npy')\n",
    "enert= np.loadtxt('../SOAP_features/id_bandgap.csv', delimiter=',')[:,1]\n",
    "G= np.load('../SOAP_features/soap_10_4_4_500_sparse_false.npy')\n",
    "g_st= preprocessing.MaxAbsScaler().fit_transform(G)\n",
    "G_scaled= g_st\n",
    "E=np.reshape(enert,(len(enert),1))\n",
    "\n",
    "mixer= np.array(range(G_scaled.shape[0]))\n",
    "for _ in range(10000):\n",
    "    np.random.shuffle(mixer)\n",
    "n= int(len(mixer)*0.80) # marking the 90%\n",
    "G_train_scaled= G_scaled[mixer[:n]]\n",
    "G_vali_scaled= G_scaled[mixer[n:]]\n",
    "E_train= E[mixer[:n]]\n",
    "E_vali= E[mixer[n:]]\n",
    "trai_id= mixer[:n]\n",
    "vali_id= mixer[n:]"
   ]
  },
  {
   "cell_type": "code",
   "execution_count": 7,
   "metadata": {
    "collapsed": false
   },
   "outputs": [
    {
     "name": "stdout",
     "output_type": "stream",
     "text": [
      "(2400, 500)\n"
     ]
    }
   ],
   "source": [
    "print G.shape"
   ]
  },
  {
   "cell_type": "code",
   "execution_count": 3,
   "metadata": {
    "collapsed": false
   },
   "outputs": [
    {
     "name": "stderr",
     "output_type": "stream",
     "text": [
      "/home/accounts/zeledon/anaconda2/lib/python2.7/site-packages/sklearn/utils/validation.py:761: DataConversionWarning: A column-vector y was passed when a 1d array was expected. Please change the shape of y to (n_samples, ), for example using ravel().\n",
      "  y = column_or_1d(y, warn=True)\n"
     ]
    }
   ],
   "source": [
    "n_estimators= [400, 450, 500, 550]\n",
    "max_depth= [5, 6, 7]\n",
    "learning_rate= [ 0.09, 0.109, 0.119]\n",
    "min_samp= [ 4, 5, 6]\n",
    "#n_estimators= [ 400, 500]\n",
    "#max_depth= [5, 7, 9]\n",
    "#learning_rate= [0.109, 0.12, 0.15]\n",
    "#min_samp= [4]\n",
    "parameters_arra= []\n",
    "mae_arra= []\n",
    "for ne in n_estimators:\n",
    "    for md in max_depth:\n",
    "        for lr in learning_rate:\n",
    "            for ms in min_samp:\n",
    "        \n",
    "                params = {'n_estimators': ne, 'max_depth': md, 'min_samples_split': ms,\n",
    "                          'learning_rate': lr, 'loss': 'ls', 'min_samples_leaf':ms}\n",
    "                parameters_arra.append(params)\n",
    "                clf = ensemble.GradientBoostingRegressor(**params)\n",
    "\n",
    "                clf.fit(G_train_scaled, E_train)\n",
    "                mae_arra.append(mean_absolute_error(E_vali, clf.predict(G_vali_scaled)))\n",
    "            \n",
    "mae_arra= np.array(mae_arra)"
   ]
  },
  {
   "cell_type": "code",
   "execution_count": 4,
   "metadata": {
    "collapsed": false
   },
   "outputs": [
    {
     "name": "stdout",
     "output_type": "stream",
     "text": [
      "0.112150784004\n",
      "{'loss': 'ls', 'learning_rate': 0.119, 'min_samples_leaf': 4, 'n_estimators': 450, 'min_samples_split': 4, 'max_depth': 6}\n"
     ]
    }
   ],
   "source": [
    "id_para= np.argsort(mae_arra)\n",
    "print mae_arra[id_para[0]]\n",
    "print parameters_arra[id_para[0]]"
   ]
  },
  {
   "cell_type": "code",
   "execution_count": 5,
   "metadata": {
    "collapsed": false
   },
   "outputs": [
    {
     "name": "stdout",
     "output_type": "stream",
     "text": [
      "0.112150784004\n",
      "{'loss': 'ls', 'learning_rate': 0.119, 'min_samples_leaf': 4, 'n_estimators': 450, 'min_samples_split': 4, 'max_depth': 6}\n",
      "****************\n",
      "0.112298276467\n",
      "{'loss': 'ls', 'learning_rate': 0.119, 'min_samples_leaf': 4, 'n_estimators': 400, 'min_samples_split': 4, 'max_depth': 6}\n",
      "****************\n",
      "0.112600565269\n",
      "{'loss': 'ls', 'learning_rate': 0.109, 'min_samples_leaf': 5, 'n_estimators': 450, 'min_samples_split': 5, 'max_depth': 6}\n",
      "****************\n",
      "0.112667737101\n",
      "{'loss': 'ls', 'learning_rate': 0.119, 'min_samples_leaf': 4, 'n_estimators': 500, 'min_samples_split': 4, 'max_depth': 6}\n",
      "****************\n",
      "0.112677357017\n",
      "{'loss': 'ls', 'learning_rate': 0.09, 'min_samples_leaf': 5, 'n_estimators': 500, 'min_samples_split': 5, 'max_depth': 6}\n",
      "****************\n",
      "0.112716367392\n",
      "{'loss': 'ls', 'learning_rate': 0.119, 'min_samples_leaf': 6, 'n_estimators': 400, 'min_samples_split': 6, 'max_depth': 7}\n",
      "****************\n",
      "0.112821296828\n",
      "{'loss': 'ls', 'learning_rate': 0.119, 'min_samples_leaf': 6, 'n_estimators': 500, 'min_samples_split': 6, 'max_depth': 7}\n",
      "****************\n",
      "0.112930583045\n",
      "{'loss': 'ls', 'learning_rate': 0.119, 'min_samples_leaf': 4, 'n_estimators': 550, 'min_samples_split': 4, 'max_depth': 6}\n",
      "****************\n",
      "0.112967063302\n",
      "{'loss': 'ls', 'learning_rate': 0.09, 'min_samples_leaf': 5, 'n_estimators': 550, 'min_samples_split': 5, 'max_depth': 6}\n",
      "****************\n",
      "0.113018940963\n",
      "{'loss': 'ls', 'learning_rate': 0.109, 'min_samples_leaf': 5, 'n_estimators': 400, 'min_samples_split': 5, 'max_depth': 6}\n",
      "****************\n",
      "0.113122968584\n",
      "{'loss': 'ls', 'learning_rate': 0.109, 'min_samples_leaf': 4, 'n_estimators': 550, 'min_samples_split': 4, 'max_depth': 7}\n",
      "****************\n",
      "0.113143666255\n",
      "{'loss': 'ls', 'learning_rate': 0.109, 'min_samples_leaf': 4, 'n_estimators': 400, 'min_samples_split': 4, 'max_depth': 7}\n",
      "****************\n",
      "0.113235264357\n",
      "{'loss': 'ls', 'learning_rate': 0.109, 'min_samples_leaf': 5, 'n_estimators': 500, 'min_samples_split': 5, 'max_depth': 6}\n",
      "****************\n",
      "0.113253402946\n",
      "{'loss': 'ls', 'learning_rate': 0.109, 'min_samples_leaf': 6, 'n_estimators': 500, 'min_samples_split': 6, 'max_depth': 6}\n",
      "****************\n",
      "0.113294851063\n",
      "{'loss': 'ls', 'learning_rate': 0.119, 'min_samples_leaf': 6, 'n_estimators': 550, 'min_samples_split': 6, 'max_depth': 7}\n",
      "****************\n",
      "0.113302552801\n",
      "{'loss': 'ls', 'learning_rate': 0.119, 'min_samples_leaf': 6, 'n_estimators': 500, 'min_samples_split': 6, 'max_depth': 5}\n",
      "****************\n",
      "0.113313841491\n",
      "{'loss': 'ls', 'learning_rate': 0.09, 'min_samples_leaf': 4, 'n_estimators': 500, 'min_samples_split': 4, 'max_depth': 7}\n",
      "****************\n",
      "0.113318016026\n",
      "{'loss': 'ls', 'learning_rate': 0.109, 'min_samples_leaf': 6, 'n_estimators': 400, 'min_samples_split': 6, 'max_depth': 6}\n",
      "****************\n",
      "0.113330957294\n",
      "{'loss': 'ls', 'learning_rate': 0.119, 'min_samples_leaf': 6, 'n_estimators': 450, 'min_samples_split': 6, 'max_depth': 7}\n",
      "****************\n",
      "0.113337240527\n",
      "{'loss': 'ls', 'learning_rate': 0.09, 'min_samples_leaf': 5, 'n_estimators': 400, 'min_samples_split': 5, 'max_depth': 6}\n",
      "****************\n",
      "0.113353787897\n",
      "{'loss': 'ls', 'learning_rate': 0.119, 'min_samples_leaf': 6, 'n_estimators': 550, 'min_samples_split': 6, 'max_depth': 6}\n",
      "****************\n",
      "0.113386133869\n",
      "{'loss': 'ls', 'learning_rate': 0.119, 'min_samples_leaf': 6, 'n_estimators': 550, 'min_samples_split': 6, 'max_depth': 5}\n",
      "****************\n",
      "0.113401176542\n",
      "{'loss': 'ls', 'learning_rate': 0.09, 'min_samples_leaf': 6, 'n_estimators': 500, 'min_samples_split': 6, 'max_depth': 6}\n",
      "****************\n",
      "0.113462476784\n",
      "{'loss': 'ls', 'learning_rate': 0.109, 'min_samples_leaf': 5, 'n_estimators': 500, 'min_samples_split': 5, 'max_depth': 5}\n",
      "****************\n",
      "0.113489541772\n",
      "{'loss': 'ls', 'learning_rate': 0.109, 'min_samples_leaf': 6, 'n_estimators': 550, 'min_samples_split': 6, 'max_depth': 6}\n",
      "****************\n",
      "0.113501377743\n",
      "{'loss': 'ls', 'learning_rate': 0.119, 'min_samples_leaf': 6, 'n_estimators': 400, 'min_samples_split': 6, 'max_depth': 5}\n",
      "****************\n",
      "0.113512432799\n",
      "{'loss': 'ls', 'learning_rate': 0.109, 'min_samples_leaf': 6, 'n_estimators': 450, 'min_samples_split': 6, 'max_depth': 6}\n",
      "****************\n",
      "0.113543847142\n",
      "{'loss': 'ls', 'learning_rate': 0.109, 'min_samples_leaf': 5, 'n_estimators': 450, 'min_samples_split': 5, 'max_depth': 5}\n",
      "****************\n",
      "0.113582399582\n",
      "{'loss': 'ls', 'learning_rate': 0.09, 'min_samples_leaf': 6, 'n_estimators': 400, 'min_samples_split': 6, 'max_depth': 6}\n",
      "****************\n",
      "0.113604168461\n",
      "{'loss': 'ls', 'learning_rate': 0.109, 'min_samples_leaf': 4, 'n_estimators': 450, 'min_samples_split': 4, 'max_depth': 7}\n",
      "****************\n",
      "0.113643658788\n",
      "{'loss': 'ls', 'learning_rate': 0.109, 'min_samples_leaf': 5, 'n_estimators': 500, 'min_samples_split': 5, 'max_depth': 7}\n",
      "****************\n",
      "0.11370730056\n",
      "{'loss': 'ls', 'learning_rate': 0.09, 'min_samples_leaf': 4, 'n_estimators': 400, 'min_samples_split': 4, 'max_depth': 7}\n",
      "****************\n",
      "0.113730822825\n",
      "{'loss': 'ls', 'learning_rate': 0.09, 'min_samples_leaf': 4, 'n_estimators': 500, 'min_samples_split': 4, 'max_depth': 6}\n",
      "****************\n",
      "0.11373119727\n",
      "{'loss': 'ls', 'learning_rate': 0.09, 'min_samples_leaf': 6, 'n_estimators': 550, 'min_samples_split': 6, 'max_depth': 6}\n",
      "****************\n",
      "0.113760274166\n",
      "{'loss': 'ls', 'learning_rate': 0.09, 'min_samples_leaf': 6, 'n_estimators': 450, 'min_samples_split': 6, 'max_depth': 6}\n",
      "****************\n",
      "0.11376833596\n",
      "{'loss': 'ls', 'learning_rate': 0.109, 'min_samples_leaf': 4, 'n_estimators': 500, 'min_samples_split': 4, 'max_depth': 7}\n",
      "****************\n",
      "0.113775931787\n",
      "{'loss': 'ls', 'learning_rate': 0.09, 'min_samples_leaf': 4, 'n_estimators': 450, 'min_samples_split': 4, 'max_depth': 7}\n",
      "****************\n",
      "0.113805046422\n",
      "{'loss': 'ls', 'learning_rate': 0.09, 'min_samples_leaf': 5, 'n_estimators': 450, 'min_samples_split': 5, 'max_depth': 6}\n",
      "****************\n",
      "0.113866430501\n",
      "{'loss': 'ls', 'learning_rate': 0.119, 'min_samples_leaf': 6, 'n_estimators': 450, 'min_samples_split': 6, 'max_depth': 6}\n",
      "****************\n",
      "0.113900476778\n",
      "{'loss': 'ls', 'learning_rate': 0.119, 'min_samples_leaf': 6, 'n_estimators': 500, 'min_samples_split': 6, 'max_depth': 6}\n",
      "****************\n",
      "0.113909192294\n",
      "{'loss': 'ls', 'learning_rate': 0.09, 'min_samples_leaf': 4, 'n_estimators': 450, 'min_samples_split': 4, 'max_depth': 6}\n",
      "****************\n",
      "0.113928479722\n",
      "{'loss': 'ls', 'learning_rate': 0.109, 'min_samples_leaf': 5, 'n_estimators': 550, 'min_samples_split': 5, 'max_depth': 5}\n",
      "****************\n",
      "0.113930104289\n",
      "{'loss': 'ls', 'learning_rate': 0.09, 'min_samples_leaf': 4, 'n_estimators': 550, 'min_samples_split': 4, 'max_depth': 7}\n",
      "****************\n",
      "0.113989164867\n",
      "{'loss': 'ls', 'learning_rate': 0.119, 'min_samples_leaf': 6, 'n_estimators': 450, 'min_samples_split': 6, 'max_depth': 5}\n",
      "****************\n",
      "0.114043524932\n",
      "{'loss': 'ls', 'learning_rate': 0.119, 'min_samples_leaf': 4, 'n_estimators': 400, 'min_samples_split': 4, 'max_depth': 7}\n",
      "****************\n",
      "0.114050216896\n",
      "{'loss': 'ls', 'learning_rate': 0.109, 'min_samples_leaf': 5, 'n_estimators': 400, 'min_samples_split': 5, 'max_depth': 5}\n",
      "****************\n",
      "0.114088781679\n",
      "{'loss': 'ls', 'learning_rate': 0.119, 'min_samples_leaf': 4, 'n_estimators': 500, 'min_samples_split': 4, 'max_depth': 7}\n",
      "****************\n",
      "0.114093400567\n",
      "{'loss': 'ls', 'learning_rate': 0.109, 'min_samples_leaf': 5, 'n_estimators': 550, 'min_samples_split': 5, 'max_depth': 6}\n",
      "****************\n",
      "0.114317519769\n",
      "{'loss': 'ls', 'learning_rate': 0.109, 'min_samples_leaf': 5, 'n_estimators': 550, 'min_samples_split': 5, 'max_depth': 7}\n",
      "****************\n",
      "0.114362638209\n",
      "{'loss': 'ls', 'learning_rate': 0.119, 'min_samples_leaf': 4, 'n_estimators': 550, 'min_samples_split': 4, 'max_depth': 7}\n",
      "****************\n",
      "0.114379345134\n",
      "{'loss': 'ls', 'learning_rate': 0.119, 'min_samples_leaf': 4, 'n_estimators': 450, 'min_samples_split': 4, 'max_depth': 7}\n",
      "****************\n",
      "0.114516541675\n",
      "{'loss': 'ls', 'learning_rate': 0.119, 'min_samples_leaf': 6, 'n_estimators': 400, 'min_samples_split': 6, 'max_depth': 6}\n",
      "****************\n",
      "0.114630970283\n",
      "{'loss': 'ls', 'learning_rate': 0.09, 'min_samples_leaf': 4, 'n_estimators': 450, 'min_samples_split': 4, 'max_depth': 5}\n",
      "****************\n",
      "0.11468169476\n",
      "{'loss': 'ls', 'learning_rate': 0.109, 'min_samples_leaf': 5, 'n_estimators': 400, 'min_samples_split': 5, 'max_depth': 7}\n",
      "****************\n",
      "0.114700071858\n",
      "{'loss': 'ls', 'learning_rate': 0.109, 'min_samples_leaf': 5, 'n_estimators': 450, 'min_samples_split': 5, 'max_depth': 7}\n",
      "****************\n",
      "0.114703277191\n",
      "{'loss': 'ls', 'learning_rate': 0.09, 'min_samples_leaf': 4, 'n_estimators': 550, 'min_samples_split': 4, 'max_depth': 6}\n",
      "****************\n",
      "0.114725045797\n",
      "{'loss': 'ls', 'learning_rate': 0.09, 'min_samples_leaf': 4, 'n_estimators': 550, 'min_samples_split': 4, 'max_depth': 5}\n",
      "****************\n",
      "0.114977479733\n",
      "{'loss': 'ls', 'learning_rate': 0.09, 'min_samples_leaf': 4, 'n_estimators': 500, 'min_samples_split': 4, 'max_depth': 5}\n",
      "****************\n",
      "0.11517018048\n",
      "{'loss': 'ls', 'learning_rate': 0.09, 'min_samples_leaf': 5, 'n_estimators': 550, 'min_samples_split': 5, 'max_depth': 5}\n",
      "****************\n",
      "0.115338517762\n",
      "{'loss': 'ls', 'learning_rate': 0.119, 'min_samples_leaf': 5, 'n_estimators': 550, 'min_samples_split': 5, 'max_depth': 7}\n",
      "****************\n",
      "0.115388123725\n",
      "{'loss': 'ls', 'learning_rate': 0.09, 'min_samples_leaf': 5, 'n_estimators': 400, 'min_samples_split': 5, 'max_depth': 5}\n",
      "****************\n",
      "0.115478968995\n",
      "{'loss': 'ls', 'learning_rate': 0.09, 'min_samples_leaf': 5, 'n_estimators': 500, 'min_samples_split': 5, 'max_depth': 5}\n",
      "****************\n",
      "0.115491686721\n",
      "{'loss': 'ls', 'learning_rate': 0.119, 'min_samples_leaf': 5, 'n_estimators': 400, 'min_samples_split': 5, 'max_depth': 7}\n",
      "****************\n",
      "0.115538460537\n",
      "{'loss': 'ls', 'learning_rate': 0.09, 'min_samples_leaf': 4, 'n_estimators': 400, 'min_samples_split': 4, 'max_depth': 5}\n",
      "****************\n",
      "0.11563510529\n",
      "{'loss': 'ls', 'learning_rate': 0.09, 'min_samples_leaf': 5, 'n_estimators': 450, 'min_samples_split': 5, 'max_depth': 5}\n",
      "****************\n",
      "0.115671741025\n",
      "{'loss': 'ls', 'learning_rate': 0.09, 'min_samples_leaf': 4, 'n_estimators': 400, 'min_samples_split': 4, 'max_depth': 6}\n",
      "****************\n",
      "0.11579599515\n",
      "{'loss': 'ls', 'learning_rate': 0.109, 'min_samples_leaf': 4, 'n_estimators': 500, 'min_samples_split': 4, 'max_depth': 6}\n",
      "****************\n",
      "0.115868202506\n",
      "{'loss': 'ls', 'learning_rate': 0.109, 'min_samples_leaf': 4, 'n_estimators': 400, 'min_samples_split': 4, 'max_depth': 6}\n",
      "****************\n",
      "0.115908773234\n",
      "{'loss': 'ls', 'learning_rate': 0.109, 'min_samples_leaf': 4, 'n_estimators': 450, 'min_samples_split': 4, 'max_depth': 6}\n",
      "****************\n",
      "0.115923831806\n",
      "{'loss': 'ls', 'learning_rate': 0.109, 'min_samples_leaf': 4, 'n_estimators': 550, 'min_samples_split': 4, 'max_depth': 6}\n",
      "****************\n",
      "0.115962622611\n",
      "{'loss': 'ls', 'learning_rate': 0.119, 'min_samples_leaf': 5, 'n_estimators': 500, 'min_samples_split': 5, 'max_depth': 7}\n",
      "****************\n",
      "0.116015562752\n",
      "{'loss': 'ls', 'learning_rate': 0.119, 'min_samples_leaf': 4, 'n_estimators': 550, 'min_samples_split': 4, 'max_depth': 5}\n",
      "****************\n",
      "0.116166534401\n",
      "{'loss': 'ls', 'learning_rate': 0.109, 'min_samples_leaf': 6, 'n_estimators': 450, 'min_samples_split': 6, 'max_depth': 5}\n",
      "****************\n",
      "0.116326022145\n",
      "{'loss': 'ls', 'learning_rate': 0.109, 'min_samples_leaf': 6, 'n_estimators': 550, 'min_samples_split': 6, 'max_depth': 5}\n",
      "****************\n",
      "0.116347132467\n",
      "{'loss': 'ls', 'learning_rate': 0.119, 'min_samples_leaf': 5, 'n_estimators': 450, 'min_samples_split': 5, 'max_depth': 7}\n",
      "****************\n",
      "0.116362368158\n",
      "{'loss': 'ls', 'learning_rate': 0.119, 'min_samples_leaf': 4, 'n_estimators': 450, 'min_samples_split': 4, 'max_depth': 5}\n",
      "****************\n",
      "0.116405791264\n",
      "{'loss': 'ls', 'learning_rate': 0.119, 'min_samples_leaf': 5, 'n_estimators': 500, 'min_samples_split': 5, 'max_depth': 6}\n",
      "****************\n",
      "0.116426080965\n",
      "{'loss': 'ls', 'learning_rate': 0.109, 'min_samples_leaf': 6, 'n_estimators': 400, 'min_samples_split': 6, 'max_depth': 5}\n",
      "****************\n",
      "0.116510721923\n",
      "{'loss': 'ls', 'learning_rate': 0.119, 'min_samples_leaf': 5, 'n_estimators': 400, 'min_samples_split': 5, 'max_depth': 6}\n",
      "****************\n",
      "0.11652842433\n",
      "{'loss': 'ls', 'learning_rate': 0.109, 'min_samples_leaf': 6, 'n_estimators': 500, 'min_samples_split': 6, 'max_depth': 5}\n",
      "****************\n",
      "0.116595653869\n",
      "{'loss': 'ls', 'learning_rate': 0.119, 'min_samples_leaf': 5, 'n_estimators': 550, 'min_samples_split': 5, 'max_depth': 6}\n",
      "****************\n",
      "0.116644298575\n",
      "{'loss': 'ls', 'learning_rate': 0.119, 'min_samples_leaf': 5, 'n_estimators': 450, 'min_samples_split': 5, 'max_depth': 6}\n",
      "****************\n",
      "0.116712479806\n",
      "{'loss': 'ls', 'learning_rate': 0.09, 'min_samples_leaf': 6, 'n_estimators': 500, 'min_samples_split': 6, 'max_depth': 7}\n",
      "****************\n",
      "0.116796890889\n",
      "{'loss': 'ls', 'learning_rate': 0.109, 'min_samples_leaf': 6, 'n_estimators': 400, 'min_samples_split': 6, 'max_depth': 7}\n",
      "****************\n",
      "0.116835237309\n",
      "{'loss': 'ls', 'learning_rate': 0.09, 'min_samples_leaf': 6, 'n_estimators': 550, 'min_samples_split': 6, 'max_depth': 7}\n",
      "****************\n",
      "0.116936427449\n",
      "{'loss': 'ls', 'learning_rate': 0.109, 'min_samples_leaf': 6, 'n_estimators': 450, 'min_samples_split': 6, 'max_depth': 7}\n",
      "****************\n",
      "0.116972534292\n",
      "{'loss': 'ls', 'learning_rate': 0.119, 'min_samples_leaf': 4, 'n_estimators': 500, 'min_samples_split': 4, 'max_depth': 5}\n",
      "****************\n",
      "0.117003725203\n",
      "{'loss': 'ls', 'learning_rate': 0.119, 'min_samples_leaf': 4, 'n_estimators': 400, 'min_samples_split': 4, 'max_depth': 5}\n",
      "****************\n",
      "0.117005136992\n",
      "{'loss': 'ls', 'learning_rate': 0.09, 'min_samples_leaf': 6, 'n_estimators': 450, 'min_samples_split': 6, 'max_depth': 7}\n",
      "****************\n",
      "0.117079403208\n",
      "{'loss': 'ls', 'learning_rate': 0.109, 'min_samples_leaf': 6, 'n_estimators': 550, 'min_samples_split': 6, 'max_depth': 7}\n",
      "****************\n",
      "0.117148342691\n",
      "{'loss': 'ls', 'learning_rate': 0.109, 'min_samples_leaf': 6, 'n_estimators': 500, 'min_samples_split': 6, 'max_depth': 7}\n",
      "****************\n",
      "0.117202722352\n",
      "{'loss': 'ls', 'learning_rate': 0.119, 'min_samples_leaf': 5, 'n_estimators': 500, 'min_samples_split': 5, 'max_depth': 5}\n",
      "****************\n",
      "0.117234225785\n",
      "{'loss': 'ls', 'learning_rate': 0.09, 'min_samples_leaf': 6, 'n_estimators': 500, 'min_samples_split': 6, 'max_depth': 5}\n",
      "****************\n",
      "0.117330186968\n",
      "{'loss': 'ls', 'learning_rate': 0.109, 'min_samples_leaf': 4, 'n_estimators': 450, 'min_samples_split': 4, 'max_depth': 5}\n",
      "****************\n",
      "0.117345593556\n",
      "{'loss': 'ls', 'learning_rate': 0.109, 'min_samples_leaf': 4, 'n_estimators': 550, 'min_samples_split': 4, 'max_depth': 5}\n",
      "****************\n",
      "0.117361817889\n",
      "{'loss': 'ls', 'learning_rate': 0.09, 'min_samples_leaf': 6, 'n_estimators': 400, 'min_samples_split': 6, 'max_depth': 7}\n",
      "****************\n",
      "0.117383290097\n",
      "{'loss': 'ls', 'learning_rate': 0.09, 'min_samples_leaf': 6, 'n_estimators': 450, 'min_samples_split': 6, 'max_depth': 5}\n",
      "****************\n",
      "0.117420870709\n",
      "{'loss': 'ls', 'learning_rate': 0.09, 'min_samples_leaf': 6, 'n_estimators': 400, 'min_samples_split': 6, 'max_depth': 5}\n",
      "****************\n",
      "0.117426663969\n",
      "{'loss': 'ls', 'learning_rate': 0.09, 'min_samples_leaf': 6, 'n_estimators': 550, 'min_samples_split': 6, 'max_depth': 5}\n",
      "****************\n",
      "0.117520491937\n",
      "{'loss': 'ls', 'learning_rate': 0.119, 'min_samples_leaf': 5, 'n_estimators': 550, 'min_samples_split': 5, 'max_depth': 5}\n",
      "****************\n",
      "0.117605907194\n",
      "{'loss': 'ls', 'learning_rate': 0.109, 'min_samples_leaf': 4, 'n_estimators': 400, 'min_samples_split': 4, 'max_depth': 5}\n",
      "****************\n",
      "0.117730738752\n",
      "{'loss': 'ls', 'learning_rate': 0.119, 'min_samples_leaf': 5, 'n_estimators': 400, 'min_samples_split': 5, 'max_depth': 5}\n",
      "****************\n",
      "0.1177558524\n",
      "{'loss': 'ls', 'learning_rate': 0.109, 'min_samples_leaf': 4, 'n_estimators': 500, 'min_samples_split': 4, 'max_depth': 5}\n",
      "****************\n",
      "0.117783595468\n",
      "{'loss': 'ls', 'learning_rate': 0.09, 'min_samples_leaf': 5, 'n_estimators': 550, 'min_samples_split': 5, 'max_depth': 7}\n",
      "****************\n",
      "0.117953242953\n",
      "{'loss': 'ls', 'learning_rate': 0.119, 'min_samples_leaf': 5, 'n_estimators': 450, 'min_samples_split': 5, 'max_depth': 5}\n",
      "****************\n",
      "0.118032094771\n",
      "{'loss': 'ls', 'learning_rate': 0.09, 'min_samples_leaf': 5, 'n_estimators': 500, 'min_samples_split': 5, 'max_depth': 7}\n",
      "****************\n",
      "0.118365876203\n",
      "{'loss': 'ls', 'learning_rate': 0.09, 'min_samples_leaf': 5, 'n_estimators': 450, 'min_samples_split': 5, 'max_depth': 7}\n",
      "****************\n",
      "0.118368208534\n",
      "{'loss': 'ls', 'learning_rate': 0.09, 'min_samples_leaf': 5, 'n_estimators': 400, 'min_samples_split': 5, 'max_depth': 7}\n",
      "****************\n"
     ]
    }
   ],
   "source": [
    "for i in id_para:\n",
    "    print mae_arra[i]\n",
    "    print parameters_arra[i]\n",
    "    print '****************'"
   ]
  },
  {
   "cell_type": "code",
   "execution_count": 6,
   "metadata": {
    "collapsed": false
   },
   "outputs": [
    {
     "data": {
      "image/png": "[encoded data removed]",
      "text/plain": [
       "<matplotlib.figure.Figure at 0x7fe1846ace10>"
      ]
     },
     "metadata": {},
     "output_type": "display_data"
    }
   ],
   "source": [
    "plt.plot(mae_arra, '*b')\n",
    "plt.savefig('model_selection_soap_algaino_band_gap_mae_model.pdf', format='pdf', bbox_inches='tight')\n",
    "plt.show()"
   ]
  },
  {
   "cell_type": "code",
   "execution_count": 8,
   "metadata": {
    "collapsed": false
   },
   "outputs": [
    {
     "name": "stdout",
     "output_type": "stream",
     "text": [
      "*********************\n",
      "g_st  (2400, 500)\n",
      "enert  (2400,)\n",
      "*********************\n",
      "g_st  (2400, 500)\n",
      "enert  (2400,)\n"
     ]
    }
   ],
   "source": [
    "numb_feat='500'\n",
    "exp_name='band_gap_algaino'\n",
    "feat_type='soap'\n",
    "enert= np.loadtxt('../SOAP_features/id_bandgap.csv', delimiter=',')[:,1]\n",
    "G= np.load('../SOAP_features/soap_10_4_4_500_sparse_false.npy')\n",
    "g_st= preprocessing.MaxAbsScaler().fit_transform(G)\n",
    "print '*********************'\n",
    "print 'g_st ', g_st.shape\n",
    "print 'enert ', enert.shape\n",
    "print '*********************'\n",
    "print 'g_st ', g_st.shape\n",
    "print 'enert ', enert.shape\n",
    "np.save('g_scaled_%s_%s_%s'%(feat_type,numb_feat,exp_name), g_st)"
   ]
  },
  {
   "cell_type": "code",
   "execution_count": 9,
   "metadata": {
    "collapsed": false
   },
   "outputs": [
    {
     "name": "stdout",
     "output_type": "stream",
     "text": [
      "(2400, 1)\n",
      "(2400, 500)\n",
      "G_train_scaled-> (2160, 500)\n",
      "G_vali_scaled-> (240, 500)\n",
      "E_train-> (2160, 1)\n",
      "E_vali-> (240, 1)\n"
     ]
    }
   ],
   "source": [
    "#G_scaled= g_st[:20000,:]\n",
    "#E=np.reshape(enert[:20000],(len(enert[:20000]),1))\n",
    "G_scaled= g_st\n",
    "E=np.reshape(enert,(len(enert),1))\n",
    "print E.shape\n",
    "print G_scaled.shape\n",
    "\n",
    "mixer= np.array(range(G_scaled.shape[0]))\n",
    "for _ in range(10000):\n",
    "    np.random.shuffle(mixer)\n",
    "n= int(len(mixer)*0.90) # marking the 90%\n",
    "G_train_scaled= G_scaled[mixer[:n]]\n",
    "G_vali_scaled= G_scaled[mixer[n:]]\n",
    "E_train= E[mixer[:n]]\n",
    "E_vali= E[mixer[n:]]\n",
    "trai_id= mixer[:n]\n",
    "vali_id= mixer[n:]\n",
    "print 'G_train_scaled->', G_train_scaled.shape\n",
    "print 'G_vali_scaled->', G_vali_scaled.shape\n",
    "print 'E_train->', E_train.shape\n",
    "print 'E_vali->', E_vali.shape\n",
    "\n",
    "np.save('E_targ_%s_%s_%s'%(feat_type,numb_feat,exp_name), E)\n",
    "np.save('trai_id_%s_%s_%s'%(feat_type,numb_feat,exp_name), trai_id)\n",
    "np.save('vali_id_%s_%s_%s'%(feat_type,numb_feat,exp_name), vali_id)"
   ]
  },
  {
   "cell_type": "code",
   "execution_count": 10,
   "metadata": {
    "collapsed": false
   },
   "outputs": [
    {
     "name": "stdout",
     "output_type": "stream",
     "text": [
      "val MSE: 0.0372 MAE 0.1153\n",
      "tra MSE: 0.0009 MAE 0.0034\n"
     ]
    }
   ],
   "source": [
    "\n",
    "#params = parameters_arra[id_para[0]]\n",
    "params= {'loss': 'ls', 'learning_rate': 0.119, 'min_samples_leaf': 4, \n",
    "         'n_estimators': 450, 'min_samples_split': 4, 'max_depth': 6}\n",
    "clf = ensemble.GradientBoostingRegressor(**params)\n",
    "\n",
    "clf.fit(G_train_scaled, E_train)\n",
    "mse = mean_squared_error(E_vali, clf.predict(G_vali_scaled))\n",
    "mae= mean_absolute_error(E_vali, clf.predict(G_vali_scaled))\n",
    "print(\"val MSE: %.4f MAE %.4f\" % (mse,mae))\n",
    "mse = mean_squared_error(E_train, clf.predict(G_train_scaled))\n",
    "mae= mean_absolute_error(E_train, clf.predict(G_train_scaled))\n",
    "print(\"tra MSE: %.4f MAE %.4f\" % (mse,mae))"
   ]
  },
  {
   "cell_type": "code",
   "execution_count": 4,
   "metadata": {
    "collapsed": false
   },
   "outputs": [
    {
     "name": "stdout",
     "output_type": "stream",
     "text": [
      "val MSE: 0.0570211 MAE 0.13616\n",
      "tra MSE: 0.0000159 MAE 0.00155\n"
     ]
    }
   ],
   "source": [
    "mse = mean_squared_error(E_vali, clf.predict(G_vali_scaled))\n",
    "mae= mean_absolute_error(E_vali, clf.predict(G_vali_scaled))\n",
    "print(\"val MSE: %.7f MAE %.5f\" % (mse,mae))\n",
    "mse = mean_squared_error(E_train, clf.predict(G_train_scaled))\n",
    "mae= mean_absolute_error(E_train, clf.predict(G_train_scaled))\n",
    "print(\"tra MSE: %.7f MAE %.5f\" % (mse,mae))"
   ]
  },
  {
   "cell_type": "code",
   "execution_count": 11,
   "metadata": {
    "collapsed": false
   },
   "outputs": [],
   "source": [
    "Ep= clf.predict(g_st)\n",
    "np.save('E_pred_%s_%s_%s'%(feat_type,numb_feat,exp_name), Ep)"
   ]
  },
  {
   "cell_type": "code",
   "execution_count": null,
   "metadata": {
    "collapsed": true
   },
   "outputs": [],
   "source": []
  },
  {
   "cell_type": "code",
   "execution_count": 8,
   "metadata": {
    "collapsed": true
   },
   "outputs": [],
   "source": [
    "def RMSLE(y_t, y_p):\n",
    "    x= np.average(np.log10(np.divide(np.add(y_p, 1.0), np.add(y_t, 1.0)))**2.0)\n",
    "    return x**0.5"
   ]
  },
  {
   "cell_type": "code",
   "execution_count": 9,
   "metadata": {
    "collapsed": false
   },
   "outputs": [
    {
     "name": "stdout",
     "output_type": "stream",
     "text": [
      "0.197364535667\n"
     ]
    }
   ],
   "source": [
    "print RMSLE(E_vali, clf.predict(G_vali_scaled))"
   ]
  },
  {
   "cell_type": "code",
   "execution_count": 5,
   "metadata": {
    "collapsed": false
   },
   "outputs": [
    {
     "data": {
      "image/png": "[encoded data removed]",
      "text/plain": [
       "<matplotlib.figure.Figure at 0x7fc2983a4290>"
      ]
     },
     "metadata": {},
     "output_type": "display_data"
    },
    {
     "data": {
      "image/png": "[encoded data removed]",
      "text/plain": [
       "<matplotlib.figure.Figure at 0x7fc233d8ff90>"
      ]
     },
     "metadata": {},
     "output_type": "display_data"
    },
    {
     "name": "stdout",
     "output_type": "stream",
     "text": [
      "MSE: 0.0002\n"
     ]
    }
   ],
   "source": [
    "Ebr_vali= clf.predict(G_vali_scaled)\n",
    "\n",
    "Ebr_train= clf.predict(G_train_scaled)\n",
    "\n",
    "plt.plot(Ebr_train, np.squeeze(E_train), '*g', Ebr_train, Ebr_train, '*b')\n",
    "plt.show()\n",
    "\n",
    "plt.plot(Ebr_vali, np.squeeze(E_vali), '*g', Ebr_vali, Ebr_vali, '*b')\n",
    "plt.show()\n",
    "\n",
    "mse = mean_squared_error(E_train, clf.predict(G_train_scaled))\n",
    "print(\"MSE: %.4f\" % mse)"
   ]
  },
  {
   "cell_type": "code",
   "execution_count": 8,
   "metadata": {
    "collapsed": false
   },
   "outputs": [
    {
     "name": "stdout",
     "output_type": "stream",
     "text": [
      "(240, 1)\n"
     ]
    }
   ],
   "source": [
    "print E_vali.shape\n",
    "E_vali1d= np.squeeze(E_vali)"
   ]
  },
  {
   "cell_type": "code",
   "execution_count": 9,
   "metadata": {
    "collapsed": false
   },
   "outputs": [
    {
     "name": "stdout",
     "output_type": "stream",
     "text": [
      "(240,)\n"
     ]
    }
   ],
   "source": [
    "E_b= clf.predict(G_vali_scaled)\n",
    "print E_b.shape"
   ]
  },
  {
   "cell_type": "code",
   "execution_count": 10,
   "metadata": {
    "collapsed": false
   },
   "outputs": [
    {
     "name": "stdout",
     "output_type": "stream",
     "text": [
      "0.020570270253\n"
     ]
    }
   ],
   "source": [
    "print np.average(np.abs(np.subtract(E_vali1d, E_b)))"
   ]
  },
  {
   "cell_type": "code",
   "execution_count": 11,
   "metadata": {
    "collapsed": false
   },
   "outputs": [
    {
     "name": "stdout",
     "output_type": "stream",
     "text": [
      "0.409292406049\n",
      "7.72510498391e-06\n",
      "0.020570270253\n"
     ]
    },
    {
     "data": {
      "image/png": "[encoded data removed]",
      "text/plain": [
       "<matplotlib.figure.Figure at 0x7ff5a22a9090>"
      ]
     },
     "metadata": {},
     "output_type": "display_data"
    }
   ],
   "source": [
    "diff_vali= np.abs(np.subtract(Ebr_vali, np.squeeze(E_vali)))\n",
    "print np.max(diff_vali)\n",
    "print np.min(diff_vali)\n",
    "diff_vali_aver= np.average(diff_vali)\n",
    "print diff_vali_aver\n",
    "\n",
    "n, bins, patches = plt.hist(diff_vali, 300, facecolor='g', alpha=0.75)\n",
    "plt.axis([0.0, 2.0, 0, 0.15])\n",
    "for item in patches:\n",
    "    item.set_height(item.get_height()/sum(n))\n",
    "plt.show()"
   ]
  },
  {
   "cell_type": "code",
   "execution_count": 65,
   "metadata": {
    "collapsed": false
   },
   "outputs": [],
   "source": [
    "np.save('../analysis/diff_vali_grad_bost_X_oni_48', diff_vali)"
   ]
  },
  {
   "cell_type": "code",
   "execution_count": 12,
   "metadata": {
    "collapsed": false
   },
   "outputs": [
    {
     "data": {
      "image/png": "[encoded data removed]",
      "text/plain": [
       "<matplotlib.figure.Figure at 0x7ff5a21cfb90>"
      ]
     },
     "metadata": {},
     "output_type": "display_data"
    }
   ],
   "source": [
    "plt.plot(Ebr_vali, np.squeeze(E_vali), '*g')\n",
    "plt.show()"
   ]
  },
  {
   "cell_type": "code",
   "execution_count": null,
   "metadata": {
    "collapsed": true
   },
   "outputs": [],
   "source": []
  }
 ],
 "metadata": {
  "kernelspec": {
   "display_name": "Python [conda root]",
   "language": "python",
   "name": "conda-root-py"
  },
  "language_info": {
   "codemirror_mode": {
    "name": "ipython",
    "version": 2
   },
   "file_extension": ".py",
   "mimetype": "text/x-python",
   "name": "python",
   "nbconvert_exporter": "python",
   "pygments_lexer": "ipython2",
   "version": "2.7.13"
  }
 },
 "nbformat": 4,
 "nbformat_minor": 2
}
