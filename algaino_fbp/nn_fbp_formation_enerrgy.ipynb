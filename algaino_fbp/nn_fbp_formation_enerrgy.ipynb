{
 "cells": [
  {
   "cell_type": "code",
   "execution_count": null,
   "metadata": {
    "collapsed": true
   },
   "outputs": [],
   "source": [
    "#"
   ]
  },
  {
   "cell_type": "code",
   "execution_count": 1,
   "metadata": {
    "collapsed": true
   },
   "outputs": [],
   "source": [
    "import numpy as np\n",
    "import tensorflow as tf\n",
    "from sklearn import preprocessing\n",
    "import re\n",
    "import os\n",
    "import matplotlib.pyplot as plt\n",
    "import time\n",
    "from sklearn.metrics import mean_squared_error\n",
    "from sklearn.metrics import mean_absolute_error"
   ]
  },
  {
   "cell_type": "code",
   "execution_count": 2,
   "metadata": {
    "collapsed": false
   },
   "outputs": [
    {
     "name": "stdout",
     "output_type": "stream",
     "text": [
      "*********************\n",
      "g_st  (2400, 816)\n",
      "enert  (2400,)\n"
     ]
    }
   ],
   "source": [
    "enert= np.load('../fbp_features/fe_816.npy')\n",
    "G= np.load('../fbp_features/fbp_816.npy')\n",
    "g_st= preprocessing.MaxAbsScaler().fit_transform(G)\n",
    "print '*********************'\n",
    "print 'g_st ', g_st.shape\n",
    "print 'enert ', enert.shape"
   ]
  },
  {
   "cell_type": "code",
   "execution_count": 3,
   "metadata": {
    "collapsed": false
   },
   "outputs": [
    {
     "name": "stdout",
     "output_type": "stream",
     "text": [
      "(2400, 1)\n",
      "(2400, 816)\n",
      "G_train_scaled-> (1800, 816)\n",
      "G_vali_scaled-> (600, 816)\n",
      "E_train-> (1800, 1)\n",
      "E_vali-> (600, 1)\n"
     ]
    }
   ],
   "source": [
    "G_scaled= g_st\n",
    "E=np.reshape(enert,(len(enert),1))\n",
    "print E.shape\n",
    "print G_scaled.shape\n",
    "\n",
    "mixer= np.array(range(G_scaled.shape[0]))\n",
    "for _ in range(10000):\n",
    "    np.random.shuffle(mixer)\n",
    "n= int(len(mixer)*0.75) # marking the 90%\n",
    "G_train_scaled= G_scaled[mixer[:n]]\n",
    "G_vali_scaled= G_scaled[mixer[n:]]\n",
    "E_train= E[mixer[:n]]\n",
    "E_vali= E[mixer[n:]]\n",
    "trai_id= mixer[:n]\n",
    "vali_id= mixer[n:]\n",
    "print 'G_train_scaled->', G_train_scaled.shape\n",
    "print 'G_vali_scaled->', G_vali_scaled.shape\n",
    "print 'E_train->', E_train.shape\n",
    "print 'E_vali->', E_vali.shape"
   ]
  },
  {
   "cell_type": "code",
   "execution_count": 4,
   "metadata": {
    "collapsed": true
   },
   "outputs": [],
   "source": [
    "#l= 100\n",
    "#k= 70\n",
    "#q= 40\n",
    "#p= 1"
   ]
  },
  {
   "cell_type": "code",
   "execution_count": 5,
   "metadata": {
    "collapsed": false
   },
   "outputs": [],
   "source": [
    "l= 500\n",
    "k= 256\n",
    "q= 1\n",
    "#p= 1\n",
    "#t= 50\n",
    "w0= tf.get_variable(\"w0\", [G_scaled.shape[1], l], initializer = tf.contrib.layers.xavier_initializer(seed = 1))\n",
    "b0= tf.Variable(tf.zeros([1,l]), name= 'b0')\n",
    "w1= tf.get_variable(\"w1\", [l, k], initializer = tf.contrib.layers.xavier_initializer(seed = 3))\n",
    "b1= tf.Variable(tf.zeros([1,k]), name= 'b1')\n",
    "w2= tf.get_variable(\"w2\", [k, q], initializer = tf.contrib.layers.xavier_initializer(seed = 5))\n",
    "b2= tf.Variable(tf.zeros([1,q]), name= 'b2')\n",
    "#w3= tf.get_variable(\"w3\", [q, p], initializer = tf.contrib.layers.xavier_initializer(seed = 7))\n",
    "#b3= tf.Variable(tf.zeros([1,p]), name= 'b3')\n",
    "#w4= tf.get_variable(\"w4\", [p, t], initializer = tf.contrib.layers.xavier_initializer(seed = 7))\n",
    "#b4= tf.Variable(tf.zeros([1,t]), name= 'b4')\n",
    "#w5= tf.get_variable(\"w5\", [t, 1], initializer = tf.contrib.layers.xavier_initializer(seed = 7))\n",
    "#b5= tf.Variable(tf.zeros([1,1]), name= 'b5')"
   ]
  },
  {
   "cell_type": "markdown",
   "metadata": {
    "collapsed": true
   },
   "source": [
    "l= 40\n",
    "k= 30\n",
    "q= 1\n",
    "#p= 1\n",
    "#t= 50\n",
    "w0= tf.Variable(tf.random_uniform([G_scaled.shape[1], l], -1.0, 1.0), name= 'w0')\n",
    "b0= tf.Variable(tf.zeros([1,l]), name= 'b0')\n",
    "w1= tf.Variable(tf.random_uniform([l, k], -1.0, 1.0), name= 'w1')\n",
    "b1= tf.Variable(tf.zeros([1,k]), name= 'b1')\n",
    "w2= tf.Variable(tf.random_uniform([k, q], -1.0, 1.0), name= 'w2')\n",
    "b2= tf.Variable(tf.zeros([1,q]), name= 'b2')\n",
    "#w3= tf.get_variable(\"w3\", [q, p], initializer = tf.contrib.layers.xavier_initializer(seed = 7))\n",
    "#b3= tf.Variable(tf.zeros([1,p]), name= 'b3')\n",
    "#w4= tf.get_variable(\"w4\", [p, t], initializer = tf.contrib.layers.xavier_initializer(seed = 7))\n",
    "#b4= tf.Variable(tf.zeros([1,t]), name= 'b4')\n",
    "#w5= tf.get_variable(\"w5\", [t, 1], initializer = tf.contrib.layers.xavier_initializer(seed = 7))\n",
    "#b5= tf.Variable(tf.zeros([1,1]), name= 'b5')"
   ]
  },
  {
   "cell_type": "code",
   "execution_count": 6,
   "metadata": {
    "collapsed": false
   },
   "outputs": [],
   "source": [
    "# input data, place holders\n",
    "#x = tf.placeholder(\"float\", [None, train_x.shape[1]], name= 'x')\n",
    "x = tf.placeholder(\"float\", [None, G_scaled.shape[1]], name= 'x')\n",
    "y = tf.placeholder(\"float\", [None, 1], name= 'y')\n",
    "lear_rate= tf.placeholder(tf.float32, shape=[])\n",
    "# model\n",
    "z1= tf.nn.relu(tf.matmul(x,w0) + b0)\n",
    "#z1= tf.nn.sigmoid(tf.matmul(x,w0) + b0)\n",
    "z2= tf.nn.relu(tf.matmul(z1,w1) + b1)\n",
    "#z2= tf.nn.sigmoid(tf.matmul(z1,w1) + b1)\n",
    "#z3= tf.nn.relu(tf.matmul(z2,w2) + b2)\n",
    "ynn= tf.matmul(z2,w2) + b2\n",
    "#z5= tf.nn.relu(tf.matmul(z4,w4) + b4)\n",
    "#ynn= tf.nn.relu(tf.matmul(z5,w5) + b5)\n",
    "#regularizers = tf.nn.l2_loss(w0) + tf.nn.l2_loss(w1) + tf.nn.l2_loss(w2) #+ tf.nn.l2_loss(w3)\n",
    "#loss= tf.losses.mean_squared_error(y, ynn)\n",
    "loss= tf.losses.absolute_difference(y, ynn)\n",
    "#loss = tf.reduce_mean(loss + beta * regularizers)\n",
    "#loss= tf.losses.mean_squared_error(tf.log(y + 1.00), tf.log(ynn + 1.00))\n",
    "#optimizer= tf.train.AdadeltaOptimizer(lear_rate).minimize(loss)\n",
    "optimizer= tf.train.GradientDescentOptimizer(lear_rate) .minimize(loss)"
   ]
  },
  {
   "cell_type": "code",
   "execution_count": 7,
   "metadata": {
    "collapsed": false
   },
   "outputs": [],
   "source": [
    "init = tf.global_variables_initializer()\n",
    "sess = tf.Session()\n",
    "sess.run(init)"
   ]
  },
  {
   "cell_type": "code",
   "execution_count": null,
   "metadata": {
    "collapsed": false
   },
   "outputs": [
    {
     "name": "stdout",
     "output_type": "stream",
     "text": [
      "initial loss  0.144325\n",
      "step  0\n",
      "train MSE: 0.0287 MAE 0.1368\n",
      "-----------------------------------------------\n",
      "val MSE: 0.0310 MAE 0.1405\n",
      "###############################################\n",
      "step  500\n",
      "train MSE: 0.0029 MAE 0.0393\n",
      "-----------------------------------------------\n",
      "val MSE: 0.0036 MAE 0.0432\n",
      "###############################################\n",
      "step  1000\n",
      "train MSE: 0.0021 MAE 0.0331\n",
      "-----------------------------------------------\n",
      "val MSE: 0.0029 MAE 0.0382\n",
      "###############################################\n",
      "step  1500\n",
      "train MSE: 0.0018 MAE 0.0295\n",
      "-----------------------------------------------\n",
      "val MSE: 0.0026 MAE 0.0350\n",
      "###############################################\n",
      "step  2000\n",
      "train MSE: 0.0015 MAE 0.0257\n",
      "-----------------------------------------------\n",
      "val MSE: 0.0023 MAE 0.0315\n",
      "###############################################\n",
      "step  2500\n",
      "train MSE: 0.0014 MAE 0.0246\n",
      "-----------------------------------------------\n",
      "val MSE: 0.0022 MAE 0.0308\n",
      "###############################################\n",
      "step  3000\n",
      "train MSE: 0.0012 MAE 0.0220\n",
      "-----------------------------------------------\n",
      "val MSE: 0.0021 MAE 0.0287\n",
      "###############################################\n",
      "step  3500\n",
      "train MSE: 0.0011 MAE 0.0217\n",
      "-----------------------------------------------\n",
      "val MSE: 0.0020 MAE 0.0286\n",
      "###############################################\n",
      "step  4000\n",
      "train MSE: 0.0011 MAE 0.0200\n",
      "-----------------------------------------------\n",
      "val MSE: 0.0019 MAE 0.0275\n",
      "###############################################\n",
      "step  4500\n",
      "train MSE: 0.0010 MAE 0.0194\n",
      "-----------------------------------------------\n",
      "val MSE: 0.0019 MAE 0.0271\n",
      "###############################################\n",
      "step  5000\n",
      "train MSE: 0.0010 MAE 0.0192\n",
      "-----------------------------------------------\n",
      "val MSE: 0.0019 MAE 0.0270\n",
      "###############################################\n",
      "step  5500\n",
      "train MSE: 0.0009 MAE 0.0187\n",
      "-----------------------------------------------\n",
      "val MSE: 0.0019 MAE 0.0267\n",
      "###############################################\n",
      "step  6000\n",
      "train MSE: 0.0009 MAE 0.0185\n",
      "-----------------------------------------------\n",
      "val MSE: 0.0018 MAE 0.0266\n",
      "###############################################\n",
      "step  6500\n",
      "train MSE: 0.0009 MAE 0.0171\n",
      "-----------------------------------------------\n",
      "val MSE: 0.0018 MAE 0.0258\n",
      "###############################################\n",
      "step  7000\n",
      "train MSE: 0.0009 MAE 0.0177\n",
      "-----------------------------------------------\n",
      "val MSE: 0.0018 MAE 0.0261\n",
      "###############################################\n",
      "step  7500\n",
      "train MSE: 0.0008 MAE 0.0169\n",
      "-----------------------------------------------\n",
      "val MSE: 0.0018 MAE 0.0257\n",
      "###############################################\n",
      "step  8000\n",
      "train MSE: 0.0008 MAE 0.0164\n",
      "-----------------------------------------------\n",
      "val MSE: 0.0017 MAE 0.0254\n",
      "###############################################\n",
      "step  8500\n",
      "train MSE: 0.0008 MAE 0.0165\n",
      "-----------------------------------------------\n",
      "val MSE: 0.0017 MAE 0.0255\n",
      "###############################################\n",
      "step  9000\n",
      "train MSE: 0.0008 MAE 0.0164\n",
      "-----------------------------------------------\n",
      "val MSE: 0.0017 MAE 0.0255\n",
      "###############################################\n",
      "step  9500\n",
      "train MSE: 0.0008 MAE 0.0162\n",
      "-----------------------------------------------\n",
      "val MSE: 0.0017 MAE 0.0253\n",
      "###############################################\n",
      "step  10000\n",
      "train MSE: 0.0007 MAE 0.0151\n",
      "-----------------------------------------------\n",
      "val MSE: 0.0017 MAE 0.0248\n",
      "###############################################\n"
     ]
    }
   ],
   "source": [
    "steps= 200000\n",
    "batch_step= 1800\n",
    "mse_vali_arra= []\n",
    "mae_vali_arra= []\n",
    "mse_trai_arra= []\n",
    "mae_trai_arra= []\n",
    "step_arra= []\n",
    "batches_n= np.arange(0,G_train_scaled.shape[0],batch_step, int)\n",
    "mixer= np.array(range(G_train_scaled.shape[0]))\n",
    "total_cost= []\n",
    "learning_rate= 0.01\n",
    "ti= time.time()\n",
    "for step in range(steps):\n",
    "    np.random.shuffle(mixer)\n",
    "    #xi= train_x[mixer,:]\n",
    "    xi= G_train_scaled[mixer,:]\n",
    "    yi= E_train[mixer,:]\n",
    "    cost_batch= 0.0\n",
    "    if step == 0:\n",
    "        loss_train= sess.run(loss, feed_dict={x:G_train_scaled, y:E_train, lear_rate:learning_rate})\n",
    "        print 'initial loss ', loss_train\n",
    "    for n in batches_n:\n",
    "        #Epred = sess.run(Enn, feed_dict={Gi:G[n:n+batch], Ei:E[n:n+batch]})\n",
    "        #weight_lossb= np.square(np.subtract(Epred, E[n:n+batch]))\n",
    "        _, cost= sess.run([optimizer, loss], feed_dict={x:xi[n:n+batch_step,:], y:yi[n:n+batch_step,:], lear_rate:learning_rate})#, DGi:DG[n:n+batch], Fi:F[n:n+batch]})\n",
    "\n",
    "        #cost_batch = cost_batch + cost/numb_size\n",
    "    total_cost.append(cost_batch)\n",
    "    if (step % 100) == 0:\n",
    "    #if (step % 50) == 0:\n",
    "        Ep_train= sess.run(ynn, feed_dict={x:G_train_scaled, y:E_train, lear_rate:learning_rate})\n",
    "        mse = mean_squared_error(E_train, Ep_train)\n",
    "        mae= mean_absolute_error(E_train, Ep_train)\n",
    "        if (step%500) == 0:\n",
    "            print 'step ', step\n",
    "            print(\"train MSE: %.4f MAE %.4f\" % (mse,mae))\n",
    "            print'-----------------------------------------------'\n",
    "        mse_trai_arra.append(mse)\n",
    "        mae_trai_arra.append(mae)\n",
    "        Ep_vali= sess.run(ynn, feed_dict={x:G_vali_scaled, y:E_vali, lear_rate:learning_rate})\n",
    "        mse = mean_squared_error(E_vali, Ep_vali)\n",
    "        mae= mean_absolute_error(E_vali, Ep_vali)\n",
    "        if (step%500) == 0:\n",
    "            print(\"val MSE: %.4f MAE %.4f\" % (mse,mae))\n",
    "            print'###############################################'\n",
    "        mse_vali_arra.append(mse)\n",
    "        mae_vali_arra.append(mae)\n",
    "        step_arra.append(step)"
   ]
  },
  {
   "cell_type": "code",
   "execution_count": null,
   "metadata": {
    "collapsed": false
   },
   "outputs": [],
   "source": [
    "learning_rate= 0.003\n",
    "ti= time.time()\n",
    "for step in range(steps):\n",
    "    np.random.shuffle(mixer)\n",
    "    #xi= train_x[mixer,:]\n",
    "    xi= G_train_scaled[mixer,:]\n",
    "    yi= E_train[mixer,:]\n",
    "    cost_batch= 0.0\n",
    "    if step == 0:\n",
    "        loss_train= sess.run(loss, feed_dict={x:G_train_scaled, y:E_train, lear_rate:learning_rate})\n",
    "        print 'initial loss ', loss_train\n",
    "    for n in batches_n:\n",
    "        #Epred = sess.run(Enn, feed_dict={Gi:G[n:n+batch], Ei:E[n:n+batch]})\n",
    "        #weight_lossb= np.square(np.subtract(Epred, E[n:n+batch]))\n",
    "        _, cost= sess.run([optimizer, loss], feed_dict={x:xi[n:n+batch_step,:], y:yi[n:n+batch_step,:], lear_rate:learning_rate})#, DGi:DG[n:n+batch], Fi:F[n:n+batch]})\n",
    "\n",
    "        #cost_batch = cost_batch + cost/numb_size\n",
    "    total_cost.append(cost_batch)\n",
    "    if (step % 100) == 0:\n",
    "    #if (step % 50) == 0:\n",
    "        Ep_train= sess.run(ynn, feed_dict={x:G_train_scaled, y:E_train, lear_rate:learning_rate})\n",
    "        mse = mean_squared_error(E_train, Ep_train)\n",
    "        mae= mean_absolute_error(E_train, Ep_train)\n",
    "        if (step%500) == 0:\n",
    "            print 'step ', step\n",
    "            print(\"train MSE: %.4f MAE %.4f\" % (mse,mae))\n",
    "            print'-----------------------------------------------'\n",
    "        mse_trai_arra.append(mse)\n",
    "        mae_trai_arra.append(mae)\n",
    "        Ep_vali= sess.run(ynn, feed_dict={x:G_vali_scaled, y:E_vali, lear_rate:learning_rate})\n",
    "        mse = mean_squared_error(E_vali, Ep_vali)\n",
    "        mae= mean_absolute_error(E_vali, Ep_vali)\n",
    "        if (step%500) == 0:\n",
    "            print(\"val MSE: %.4f MAE %.4f\" % (mse,mae))\n",
    "            print'###############################################'\n",
    "        mse_vali_arra.append(mse)\n",
    "        mae_vali_arra.append(mae)\n",
    "        step_arra.append(step)"
   ]
  },
  {
   "cell_type": "code",
   "execution_count": null,
   "metadata": {
    "collapsed": false
   },
   "outputs": [
    {
     "name": "stdout",
     "output_type": "stream",
     "text": [
      "initial loss  0.00259173\n",
      "step  0\n",
      "train MSE: 0.0001 MAE 0.0026\n",
      "-----------------------------------------------\n",
      "val MSE: 0.0013 MAE 0.0205\n",
      "###############################################\n",
      "step  500\n",
      "train MSE: 0.0001 MAE 0.0015\n",
      "-----------------------------------------------\n",
      "val MSE: 0.0013 MAE 0.0203\n",
      "###############################################\n",
      "step  1000\n",
      "train MSE: 0.0001 MAE 0.0015\n",
      "-----------------------------------------------\n",
      "val MSE: 0.0013 MAE 0.0203\n",
      "###############################################\n",
      "step  1500\n",
      "train MSE: 0.0001 MAE 0.0015\n",
      "-----------------------------------------------\n",
      "val MSE: 0.0013 MAE 0.0203\n",
      "###############################################\n",
      "step  2000\n",
      "train MSE: 0.0001 MAE 0.0015\n",
      "-----------------------------------------------\n",
      "val MSE: 0.0013 MAE 0.0203\n",
      "###############################################\n",
      "step  2500\n",
      "train MSE: 0.0001 MAE 0.0015\n",
      "-----------------------------------------------\n",
      "val MSE: 0.0013 MAE 0.0203\n",
      "###############################################\n",
      "step  3000\n",
      "train MSE: 0.0001 MAE 0.0014\n",
      "-----------------------------------------------\n",
      "val MSE: 0.0013 MAE 0.0203\n",
      "###############################################\n",
      "step  3500\n",
      "train MSE: 0.0001 MAE 0.0014\n",
      "-----------------------------------------------\n",
      "val MSE: 0.0013 MAE 0.0203\n",
      "###############################################\n",
      "step  4000\n",
      "train MSE: 0.0001 MAE 0.0014\n",
      "-----------------------------------------------\n",
      "val MSE: 0.0013 MAE 0.0203\n",
      "###############################################\n",
      "step  4500\n",
      "train MSE: 0.0001 MAE 0.0014\n",
      "-----------------------------------------------\n",
      "val MSE: 0.0013 MAE 0.0203\n",
      "###############################################\n",
      "step  5000\n",
      "train MSE: 0.0001 MAE 0.0014\n",
      "-----------------------------------------------\n",
      "val MSE: 0.0013 MAE 0.0203\n",
      "###############################################\n",
      "step  5500\n",
      "train MSE: 0.0001 MAE 0.0014\n",
      "-----------------------------------------------\n",
      "val MSE: 0.0013 MAE 0.0203\n",
      "###############################################\n",
      "step  6000\n",
      "train MSE: 0.0001 MAE 0.0014\n",
      "-----------------------------------------------\n",
      "val MSE: 0.0013 MAE 0.0203\n",
      "###############################################\n",
      "step  6500\n",
      "train MSE: 0.0001 MAE 0.0014\n",
      "-----------------------------------------------\n",
      "val MSE: 0.0013 MAE 0.0203\n",
      "###############################################\n",
      "step  7000\n",
      "train MSE: 0.0001 MAE 0.0014\n",
      "-----------------------------------------------\n",
      "val MSE: 0.0013 MAE 0.0203\n",
      "###############################################\n",
      "step  7500\n",
      "train MSE: 0.0001 MAE 0.0014\n",
      "-----------------------------------------------\n",
      "val MSE: 0.0013 MAE 0.0203\n",
      "###############################################\n"
     ]
    }
   ],
   "source": [
    "learning_rate= 0.00003\n",
    "ti= time.time()\n",
    "for step in range(steps):\n",
    "    np.random.shuffle(mixer)\n",
    "    #xi= train_x[mixer,:]\n",
    "    xi= G_train_scaled[mixer,:]\n",
    "    yi= E_train[mixer,:]\n",
    "    cost_batch= 0.0\n",
    "    if step == 0:\n",
    "        loss_train= sess.run(loss, feed_dict={x:G_train_scaled, y:E_train, lear_rate:learning_rate})\n",
    "        print 'initial loss ', loss_train\n",
    "    for n in batches_n:\n",
    "        #Epred = sess.run(Enn, feed_dict={Gi:G[n:n+batch], Ei:E[n:n+batch]})\n",
    "        #weight_lossb= np.square(np.subtract(Epred, E[n:n+batch]))\n",
    "        _, cost= sess.run([optimizer, loss], feed_dict={x:xi[n:n+batch_step,:], y:yi[n:n+batch_step,:], lear_rate:learning_rate})#, DGi:DG[n:n+batch], Fi:F[n:n+batch]})\n",
    "\n",
    "        #cost_batch = cost_batch + cost/numb_size\n",
    "    total_cost.append(cost_batch)\n",
    "    if (step % 100) == 0:\n",
    "    #if (step % 50) == 0:\n",
    "        Ep_train= sess.run(ynn, feed_dict={x:G_train_scaled, y:E_train, lear_rate:learning_rate})\n",
    "        mse = mean_squared_error(E_train, Ep_train)\n",
    "        mae= mean_absolute_error(E_train, Ep_train)\n",
    "        if (step%500) == 0:\n",
    "            print 'step ', step\n",
    "            print(\"train MSE: %.4f MAE %.4f\" % (mse,mae))\n",
    "            print'-----------------------------------------------'\n",
    "        mse_trai_arra.append(mse)\n",
    "        mae_trai_arra.append(mae)\n",
    "        Ep_vali= sess.run(ynn, feed_dict={x:G_vali_scaled, y:E_vali, lear_rate:learning_rate})\n",
    "        mse = mean_squared_error(E_vali, Ep_vali)\n",
    "        mae= mean_absolute_error(E_vali, Ep_vali)\n",
    "        if (step%500) == 0:\n",
    "            print(\"val MSE: %.4f MAE %.4f\" % (mse,mae))\n",
    "            print'###############################################'\n",
    "        mse_vali_arra.append(mse)\n",
    "        mae_vali_arra.append(mae)\n",
    "        step_arra.append(step)"
   ]
  },
  {
   "cell_type": "code",
   "execution_count": 10,
   "metadata": {
    "collapsed": false
   },
   "outputs": [
    {
     "name": "stdout",
     "output_type": "stream",
     "text": [
      "val MSE: 0.0013 MAE 0.0205\n"
     ]
    }
   ],
   "source": [
    "Ep_vali= sess.run(ynn, feed_dict={x:G_vali_scaled, y:E_vali, lear_rate:learning_rate})\n",
    "mse = mean_squared_error(E_vali, Ep_vali)\n",
    "mae= mean_absolute_error(E_vali, Ep_vali)\n",
    "print(\"val MSE: %.4f MAE %.4f\" % (mse,mae))"
   ]
  },
  {
   "cell_type": "code",
   "execution_count": 22,
   "metadata": {
    "collapsed": false
   },
   "outputs": [
    {
     "name": "stdout",
     "output_type": "stream",
     "text": [
      "0.0828708\n",
      "0.0717404\n"
     ]
    }
   ],
   "source": [
    "print np.min(vali_arra)\n",
    "print np.min(trai_arra)"
   ]
  },
  {
   "cell_type": "code",
   "execution_count": 11,
   "metadata": {
    "collapsed": false
   },
   "outputs": [
    {
     "name": "stdout",
     "output_type": "stream",
     "text": [
      "18110.9055598\n"
     ]
    }
   ],
   "source": [
    "print tf-ti"
   ]
  },
  {
   "cell_type": "code",
   "execution_count": 11,
   "metadata": {
    "collapsed": false
   },
   "outputs": [
    {
     "data": {
      "image/png": "[encoded data removed]",
      "text/plain": [
       "<matplotlib.figure.Figure at 0x7fc2ab838910>"
      ]
     },
     "metadata": {},
     "output_type": "display_data"
    }
   ],
   "source": [
    "plt.plot(mae_trai_arra[200], 'b', mae_vali_arra, 'r')\n",
    "plt.show()"
   ]
  },
  {
   "cell_type": "code",
   "execution_count": 13,
   "metadata": {
    "collapsed": false
   },
   "outputs": [
    {
     "data": {
      "image/png": "[encoded data removed]",
      "text/plain": [
       "<matplotlib.figure.Figure at 0x7f3ac87bd590>"
      ]
     },
     "metadata": {},
     "output_type": "display_data"
    }
   ],
   "source": [
    "E_train_nn= sess.run(ynn, feed_dict={x:G_train_scaled, y:E_train})\n",
    "\n",
    "plt.plot(E_train_nn, E_train, '*b', E_train, E_train, '*r')\n",
    "plt.show()"
   ]
  },
  {
   "cell_type": "code",
   "execution_count": 14,
   "metadata": {
    "collapsed": false
   },
   "outputs": [
    {
     "name": "stdout",
     "output_type": "stream",
     "text": [
      "1.42552285937\n",
      "2.55390625625e-05\n",
      "0.204786959756\n"
     ]
    }
   ],
   "source": [
    "diff_train= np.abs(np.subtract(E_train_nn, E_train))\n",
    "print np.max(diff_train)\n",
    "print np.min(diff_train)\n",
    "diff_train_aver= np.average(diff_train)\n",
    "print diff_train_aver"
   ]
  },
  {
   "cell_type": "code",
   "execution_count": 15,
   "metadata": {
    "collapsed": false
   },
   "outputs": [
    {
     "data": {
      "image/png": "[encoded data removed]",
      "text/plain": [
       "<matplotlib.figure.Figure at 0x7f3ac86c54d0>"
      ]
     },
     "metadata": {},
     "output_type": "display_data"
    }
   ],
   "source": [
    "n, bins, patches = plt.hist(diff_train, 300, facecolor='g', alpha=0.75)\n",
    "plt.axis([0.0, 0.7, 0, 100])\n",
    "plt.show()"
   ]
  },
  {
   "cell_type": "code",
   "execution_count": 16,
   "metadata": {
    "collapsed": false
   },
   "outputs": [
    {
     "data": {
      "image/png": "[encoded data removed]",
      "text/plain": [
       "<matplotlib.figure.Figure at 0x7f3ab0697710>"
      ]
     },
     "metadata": {},
     "output_type": "display_data"
    }
   ],
   "source": [
    "n, bins, patches = plt.hist(diff_train, 300, facecolor='g', alpha=0.75)\n",
    "plt.axis([0.0, 1.0, 0, 1000])\n",
    "plt.show()"
   ]
  },
  {
   "cell_type": "code",
   "execution_count": 17,
   "metadata": {
    "collapsed": false
   },
   "outputs": [
    {
     "name": "stdout",
     "output_type": "stream",
     "text": [
      "4.0\n",
      "0.760290776563\n"
     ]
    }
   ],
   "source": [
    "print n[160]\n",
    "print bins[160]"
   ]
  },
  {
   "cell_type": "code",
   "execution_count": 18,
   "metadata": {
    "collapsed": false
   },
   "outputs": [
    {
     "data": {
      "image/png": "[encoded data removed]",
      "text/plain": [
       "<matplotlib.figure.Figure at 0x7f3ac875f490>"
      ]
     },
     "metadata": {},
     "output_type": "display_data"
    }
   ],
   "source": [
    "E_vali_nn= sess.run(ynn, feed_dict={x:G_vali_scaled, y:E_vali})\n",
    "\n",
    "plt.plot(E_vali_nn, E_vali, '*b', E_vali, E_vali, '*r')\n",
    "plt.show()"
   ]
  },
  {
   "cell_type": "code",
   "execution_count": 19,
   "metadata": {
    "collapsed": false
   },
   "outputs": [
    {
     "name": "stdout",
     "output_type": "stream",
     "text": [
      "1.21361501563\n",
      "6.8906249453e-06\n",
      "0.219804994049\n"
     ]
    },
    {
     "data": {
      "image/png": "[encoded data removed]",
      "text/plain": [
       "<matplotlib.figure.Figure at 0x7f3acd3a6a90>"
      ]
     },
     "metadata": {},
     "output_type": "display_data"
    }
   ],
   "source": [
    "diff_vali= np.abs(np.subtract(E_vali_nn, E_vali))\n",
    "print np.max(diff_vali)\n",
    "print np.min(diff_vali)\n",
    "diff_vali_aver= np.average(diff_vali)\n",
    "print diff_vali_aver\n",
    "\n",
    "n, bins, patches = plt.hist(diff_vali, 300, facecolor='g', alpha=0.75)\n",
    "plt.axis([0.0, 3.4, 0, 100])\n",
    "plt.show()"
   ]
  },
  {
   "cell_type": "code",
   "execution_count": 20,
   "metadata": {
    "collapsed": true
   },
   "outputs": [],
   "source": [
    "np.save('../analysis/diff_vali_nn_l20_k20_q1_X_oni_48', diff_vali)"
   ]
  },
  {
   "cell_type": "code",
   "execution_count": 18,
   "metadata": {
    "collapsed": true
   },
   "outputs": [],
   "source": [
    "E_nn= sess.run(ynn, feed_dict={x:G_scaled, y:E})\n",
    "E_nn_vali=sess.run(ynn, feed_dict={x:G_scaled[struid_vali], y:E})\n",
    "E_nn_train=sess.run(ynn, feed_dict={x:G_scaled[struid_train], y:E})\n",
    "\n",
    "np.save('E_nn_vali_C10_t_500_F2_I_gauss_48_2', E_nn_vali)\n",
    "np.save('E_vali_C10_t_500_F2_I_gauss_48_2', E[struid_vali])\n",
    "np.save('stru_vali_C10_t_500_F2_I_gauss_48_2', struid_vali)\n",
    "\n",
    "np.save('E_nn_train_C10_t_500_F2_I_gauss_48_2', E_nn_train)\n",
    "np.save('E_train_C10_t_500_F2_I_gauss_48_2', E[struid_train])\n",
    "np.save('stru_train_C10_t_500_F2_I_gauss_48_2', struid_train)"
   ]
  },
  {
   "cell_type": "code",
   "execution_count": 14,
   "metadata": {
    "collapsed": true
   },
   "outputs": [],
   "source": [
    "E_nn= sess.run(ynn, feed_dict={x:G_scaled, y:E})\n",
    "E_nn_vali=sess.run(ynn, feed_dict={x:G_scaled[struid_vali], y:E})\n",
    "E_nn_train=sess.run(ynn, feed_dict={x:G_scaled[struid_train], y:E})\n",
    "\n",
    "np.save('E_nn_vali_C10_t_500_F2_I_gauss_48_1', E_nn_vali)\n",
    "np.save('E_vali_C10_t_500_F2_I_gauss_48_1', E[struid_vali])\n",
    "np.save('stru_vali_C10_t_500_F2_I_gauss_48_1', struid_vali)\n",
    "\n",
    "np.save('E_nn_train_C10_t_500_F2_I_gauss_48_1', E_nn_train)\n",
    "np.save('E_train_C10_t_500_F2_I_gauss_48_1', E[struid_train])\n",
    "np.save('stru_train_C10_t_500_F2_I_gauss_48_1', struid_train)"
   ]
  }
 ],
 "metadata": {
  "kernelspec": {
   "display_name": "Python [conda root]",
   "language": "python",
   "name": "conda-root-py"
  },
  "language_info": {
   "codemirror_mode": {
    "name": "ipython",
    "version": 2
   },
   "file_extension": ".py",
   "mimetype": "text/x-python",
   "name": "python",
   "nbconvert_exporter": "python",
   "pygments_lexer": "ipython2",
   "version": "2.7.13"
  }
 },
 "nbformat": 4,
 "nbformat_minor": 2
}
