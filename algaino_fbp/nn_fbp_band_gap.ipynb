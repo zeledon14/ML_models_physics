{
 "cells": [
  {
   "cell_type": "code",
   "execution_count": null,
   "metadata": {
    "collapsed": true
   },
   "outputs": [],
   "source": [
    "#l= 20 k= 20 val MSE: 0.0709 MAE 0.1715 lr 0.003"
   ]
  },
  {
   "cell_type": "code",
   "execution_count": 9,
   "metadata": {
    "collapsed": true
   },
   "outputs": [],
   "source": [
    "import numpy as np\n",
    "import tensorflow as tf\n",
    "from sklearn import preprocessing\n",
    "import re\n",
    "import os\n",
    "import matplotlib.pyplot as plt\n",
    "import time\n",
    "from sklearn.metrics import mean_squared_error\n",
    "from sklearn.metrics import mean_absolute_error"
   ]
  },
  {
   "cell_type": "code",
   "execution_count": 2,
   "metadata": {
    "collapsed": false
   },
   "outputs": [
    {
     "name": "stdout",
     "output_type": "stream",
     "text": [
      "*********************\n",
      "g_st  (2400, 1744)\n",
      "enert  (2400,)\n"
     ]
    }
   ],
   "source": [
    "enert= np.load('../fbp_features/bg_608.npy')\n",
    "G= np.load('../fbp_features/fbp_608.npy')\n",
    "g_st= preprocessing.MaxAbsScaler().fit_transform(G)\n",
    "print '*********************'\n",
    "print 'g_st ', g_st.shape\n",
    "print 'enert ', enert.shape"
   ]
  },
  {
   "cell_type": "code",
   "execution_count": 3,
   "metadata": {
    "collapsed": false
   },
   "outputs": [
    {
     "name": "stdout",
     "output_type": "stream",
     "text": [
      "(2400, 1)\n",
      "(2400, 1744)\n",
      "G_train_scaled-> (1920, 1744)\n",
      "G_vali_scaled-> (480, 1744)\n",
      "E_train-> (1920, 1)\n",
      "E_vali-> (480, 1)\n"
     ]
    }
   ],
   "source": [
    "G_scaled= g_st\n",
    "E=np.reshape(enert,(len(enert),1))\n",
    "print E.shape\n",
    "print G_scaled.shape\n",
    "\n",
    "mixer= np.array(range(G_scaled.shape[0]))\n",
    "for _ in range(10000):\n",
    "    np.random.shuffle(mixer)\n",
    "n= int(len(mixer)*0.80) # marking the 90%\n",
    "G_train_scaled= G_scaled[mixer[:n]]\n",
    "G_vali_scaled= G_scaled[mixer[n:]]\n",
    "E_train= E[mixer[:n]]\n",
    "E_vali= E[mixer[n:]]\n",
    "trai_id= mixer[:n]\n",
    "vali_id= mixer[n:]\n",
    "print 'G_train_scaled->', G_train_scaled.shape\n",
    "print 'G_vali_scaled->', G_vali_scaled.shape\n",
    "print 'E_train->', E_train.shape\n",
    "print 'E_vali->', E_vali.shape"
   ]
  },
  {
   "cell_type": "code",
   "execution_count": 4,
   "metadata": {
    "collapsed": true
   },
   "outputs": [],
   "source": [
    "#l= 100\n",
    "#k= 70\n",
    "#q= 40\n",
    "#p= 1"
   ]
  },
  {
   "cell_type": "code",
   "execution_count": 4,
   "metadata": {
    "collapsed": false
   },
   "outputs": [],
   "source": [
    "l= 512\n",
    "k= 256\n",
    "q= 1\n",
    "#p= 1\n",
    "#t= 50\n",
    "w0= tf.get_variable(\"w0\", [G_scaled.shape[1], l], initializer = tf.contrib.layers.xavier_initializer(seed = 1))\n",
    "b0= tf.Variable(tf.zeros([1,l]), name= 'b0')\n",
    "w1= tf.get_variable(\"w1\", [l, k], initializer = tf.contrib.layers.xavier_initializer(seed = 3))\n",
    "b1= tf.Variable(tf.zeros([1,k]), name= 'b1')\n",
    "w2= tf.get_variable(\"w2\", [k, q], initializer = tf.contrib.layers.xavier_initializer(seed = 5))\n",
    "b2= tf.Variable(tf.zeros([1,q]), name= 'b2')\n",
    "#w3= tf.get_variable(\"w3\", [q, p], initializer = tf.contrib.layers.xavier_initializer(seed = 7))\n",
    "#b3= tf.Variable(tf.zeros([1,p]), name= 'b3')\n",
    "#w4= tf.get_variable(\"w4\", [p, t], initializer = tf.contrib.layers.xavier_initializer(seed = 7))\n",
    "#b4= tf.Variable(tf.zeros([1,t]), name= 'b4')\n",
    "#w5= tf.get_variable(\"w5\", [t, 1], initializer = tf.contrib.layers.xavier_initializer(seed = 7))\n",
    "#b5= tf.Variable(tf.zeros([1,1]), name= 'b5')"
   ]
  },
  {
   "cell_type": "markdown",
   "metadata": {
    "collapsed": true
   },
   "source": [
    "l= 256\n",
    "k= 256\n",
    "q= 1\n",
    "#p= 1\n",
    "#t= 50\n",
    "w0= tf.Variable(tf.random_uniform([G_scaled.shape[1], l], -1.0, 1.0), name= 'w0')\n",
    "b0= tf.Variable(tf.zeros([1,l]), name= 'b0')\n",
    "w1= tf.Variable(tf.random_uniform([l, k], -1.0, 1.0), name= 'w1')\n",
    "b1= tf.Variable(tf.zeros([1,k]), name= 'b1')\n",
    "w2= tf.Variable(tf.random_uniform([k, q], -1.0, 1.0), name= 'w2')\n",
    "b2= tf.Variable(tf.zeros([1,q]), name= 'b2')\n",
    "#w3= tf.get_variable(\"w3\", [q, p], initializer = tf.contrib.layers.xavier_initializer(seed = 7))\n",
    "#b3= tf.Variable(tf.zeros([1,p]), name= 'b3')\n",
    "#w4= tf.get_variable(\"w4\", [p, t], initializer = tf.contrib.layers.xavier_initializer(seed = 7))\n",
    "#b4= tf.Variable(tf.zeros([1,t]), name= 'b4')\n",
    "#w5= tf.get_variable(\"w5\", [t, 1], initializer = tf.contrib.layers.xavier_initializer(seed = 7))\n",
    "#b5= tf.Variable(tf.zeros([1,1]), name= 'b5')"
   ]
  },
  {
   "cell_type": "code",
   "execution_count": 5,
   "metadata": {
    "collapsed": false
   },
   "outputs": [],
   "source": [
    "# input data, place holders\n",
    "#x = tf.placeholder(\"float\", [None, train_x.shape[1]], name= 'x')\n",
    "x = tf.placeholder(\"float\", [None, G_scaled.shape[1]], name= 'x')\n",
    "y = tf.placeholder(\"float\", [None, 1], name= 'y')\n",
    "lear_rate= tf.placeholder(tf.float32, shape=[])\n",
    "# model\n",
    "z1= tf.nn.relu(tf.matmul(x,w0) + b0)\n",
    "#z1= tf.nn.sigmoid(tf.matmul(x,w0) + b0)\n",
    "z2= tf.nn.relu(tf.matmul(z1,w1) + b1)\n",
    "#z2= tf.nn.sigmoid(tf.matmul(z1,w1) + b1)\n",
    "#z3= tf.nn.relu(tf.matmul(z2,w2) + b2)\n",
    "ynn= tf.matmul(z2,w2) + b2\n",
    "#z5= tf.nn.relu(tf.matmul(z4,w4) + b4)\n",
    "#ynn= tf.nn.relu(tf.matmul(z5,w5) + b5)\n",
    "#regularizers = tf.nn.l2_loss(w0) + tf.nn.l2_loss(w1) + tf.nn.l2_loss(w2) #+ tf.nn.l2_loss(w3)\n",
    "#loss= tf.losses.mean_squared_error(y, ynn)\n",
    "loss= tf.losses.absolute_difference(y, ynn)\n",
    "#loss = tf.reduce_mean(loss + beta * regularizers)\n",
    "#loss= tf.losses.mean_squared_error(tf.log(y + 1.00), tf.log(ynn + 1.00))\n",
    "optimizer= tf.train.AdadeltaOptimizer(lear_rate).minimize(loss)\n",
    "#optimizer= tf.train.GradientDescentOptimizer(lear_rate) .minimize(loss)"
   ]
  },
  {
   "cell_type": "code",
   "execution_count": 6,
   "metadata": {
    "collapsed": false
   },
   "outputs": [],
   "source": [
    "init = tf.global_variables_initializer()\n",
    "sess = tf.Session()\n",
    "sess.run(init)"
   ]
  },
  {
   "cell_type": "code",
   "execution_count": null,
   "metadata": {
    "collapsed": false
   },
   "outputs": [
    {
     "name": "stdout",
     "output_type": "stream",
     "text": [
      "initial loss  1.97057\n",
      "step  0\n",
      "train MSE: 4.7967 MAE 1.9589\n",
      "-----------------------------------------------\n",
      "val MSE: 4.8408 MAE 1.9870\n",
      "###############################################\n",
      "step  500\n",
      "train MSE: 1.4745 MAE 0.6955\n",
      "-----------------------------------------------\n",
      "val MSE: 1.5800 MAE 0.7796\n",
      "###############################################\n",
      "step  1000\n",
      "train MSE: 0.7918 MAE 0.4964\n",
      "-----------------------------------------------\n",
      "val MSE: 0.8024 MAE 0.5400\n",
      "###############################################\n",
      "step  1500\n",
      "train MSE: 0.3245 MAE 0.3091\n",
      "-----------------------------------------------\n",
      "val MSE: 0.3024 MAE 0.3237\n",
      "###############################################\n",
      "step  2000\n",
      "train MSE: 0.2258 MAE 0.2536\n",
      "-----------------------------------------------\n",
      "val MSE: 0.2170 MAE 0.2749\n",
      "###############################################\n",
      "step  2500\n",
      "train MSE: 0.1838 MAE 0.2321\n",
      "-----------------------------------------------\n",
      "val MSE: 0.1847 MAE 0.2584\n",
      "###############################################\n",
      "step  3000\n",
      "train MSE: 0.1498 MAE 0.2027\n",
      "-----------------------------------------------\n",
      "val MSE: 0.1590 MAE 0.2371\n",
      "###############################################\n",
      "step  3500\n",
      "train MSE: 0.1247 MAE 0.1833\n",
      "-----------------------------------------------\n",
      "val MSE: 0.1396 MAE 0.2233\n",
      "###############################################\n",
      "step  4000\n",
      "train MSE: 0.1066 MAE 0.1735\n",
      "-----------------------------------------------\n",
      "val MSE: 0.1248 MAE 0.2154\n",
      "###############################################\n",
      "step  4500\n",
      "train MSE: 0.0921 MAE 0.1557\n",
      "-----------------------------------------------\n",
      "val MSE: 0.1128 MAE 0.2016\n",
      "###############################################\n",
      "step  5000\n",
      "train MSE: 0.0817 MAE 0.1429\n",
      "-----------------------------------------------\n",
      "val MSE: 0.1037 MAE 0.1910\n",
      "###############################################\n",
      "step  5500\n",
      "train MSE: 0.0744 MAE 0.1348\n",
      "-----------------------------------------------\n",
      "val MSE: 0.0966 MAE 0.1840\n",
      "###############################################\n",
      "step  6000\n",
      "train MSE: 0.0686 MAE 0.1289\n",
      "-----------------------------------------------\n",
      "val MSE: 0.0912 MAE 0.1790\n",
      "###############################################\n",
      "step  6500\n",
      "train MSE: 0.0637 MAE 0.1207\n",
      "-----------------------------------------------\n",
      "val MSE: 0.0868 MAE 0.1732\n",
      "###############################################\n",
      "step  7000\n",
      "train MSE: 0.0600 MAE 0.1206\n",
      "-----------------------------------------------\n",
      "val MSE: 0.0831 MAE 0.1722\n",
      "###############################################\n",
      "step  7500\n",
      "train MSE: 0.0564 MAE 0.1125\n",
      "-----------------------------------------------\n",
      "val MSE: 0.0802 MAE 0.1674\n",
      "###############################################\n",
      "step  8000\n",
      "train MSE: 0.0535 MAE 0.1094\n",
      "-----------------------------------------------\n",
      "val MSE: 0.0776 MAE 0.1653\n",
      "###############################################\n",
      "step  8500\n",
      "train MSE: 0.0510 MAE 0.1093\n",
      "-----------------------------------------------\n",
      "val MSE: 0.0751 MAE 0.1644\n",
      "###############################################\n",
      "step  9000\n",
      "train MSE: 0.0487 MAE 0.1041\n",
      "-----------------------------------------------\n",
      "val MSE: 0.0730 MAE 0.1611\n",
      "###############################################\n",
      "step  9500\n",
      "train MSE: 0.0470 MAE 0.1069\n",
      "-----------------------------------------------\n",
      "val MSE: 0.0712 MAE 0.1617\n",
      "###############################################\n",
      "step  10000\n",
      "train MSE: 0.0449 MAE 0.0985\n",
      "-----------------------------------------------\n",
      "val MSE: 0.0694 MAE 0.1569\n",
      "###############################################\n",
      "step  10500\n",
      "train MSE: 0.0435 MAE 0.0997\n",
      "-----------------------------------------------\n",
      "val MSE: 0.0680 MAE 0.1565\n",
      "###############################################\n",
      "step  11000\n",
      "train MSE: 0.0423 MAE 0.1022\n",
      "-----------------------------------------------\n",
      "val MSE: 0.0669 MAE 0.1567\n",
      "###############################################\n",
      "step  11500\n",
      "train MSE: 0.0412 MAE 0.1024\n",
      "-----------------------------------------------\n",
      "val MSE: 0.0658 MAE 0.1559\n",
      "###############################################\n",
      "step  12000\n",
      "train MSE: 0.0395 MAE 0.0911\n",
      "-----------------------------------------------\n",
      "val MSE: 0.0644 MAE 0.1499\n",
      "###############################################\n",
      "step  12500\n",
      "train MSE: 0.0388 MAE 0.0977\n",
      "-----------------------------------------------\n",
      "val MSE: 0.0636 MAE 0.1519\n",
      "###############################################\n",
      "step  13000\n",
      "train MSE: 0.0377 MAE 0.0944\n",
      "-----------------------------------------------\n",
      "val MSE: 0.0627 MAE 0.1499\n",
      "###############################################\n",
      "step  13500\n",
      "train MSE: 0.0365 MAE 0.0870\n",
      "-----------------------------------------------\n",
      "val MSE: 0.0619 MAE 0.1463\n",
      "###############################################\n",
      "step  14000\n",
      "train MSE: 0.0361 MAE 0.0932\n",
      "-----------------------------------------------\n",
      "val MSE: 0.0614 MAE 0.1484\n",
      "###############################################\n",
      "step  14500\n",
      "train MSE: 0.0352 MAE 0.0904\n",
      "-----------------------------------------------\n",
      "val MSE: 0.0608 MAE 0.1468\n",
      "###############################################\n",
      "step  15000\n",
      "train MSE: 0.0345 MAE 0.0899\n",
      "-----------------------------------------------\n",
      "val MSE: 0.0603 MAE 0.1463\n",
      "###############################################\n",
      "step  15500\n",
      "train MSE: 0.0340 MAE 0.0912\n",
      "-----------------------------------------------\n",
      "val MSE: 0.0599 MAE 0.1466\n",
      "###############################################\n",
      "step  16000\n",
      "train MSE: 0.0334 MAE 0.0912\n",
      "-----------------------------------------------\n",
      "val MSE: 0.0594 MAE 0.1463\n",
      "###############################################\n",
      "step  19000\n",
      "train MSE: 0.0292 MAE 0.0737\n",
      "-----------------------------------------------\n",
      "val MSE: 0.0566 MAE 0.1382\n",
      "###############################################\n",
      "step  19500\n",
      "train MSE: 0.0287 MAE 0.0739\n",
      "-----------------------------------------------\n",
      "val MSE: 0.0563 MAE 0.1383\n",
      "###############################################\n",
      "step  20000\n",
      "train MSE: 0.0284 MAE 0.0757\n",
      "-----------------------------------------------\n",
      "val MSE: 0.0561 MAE 0.1388\n",
      "###############################################\n"
     ]
    }
   ],
   "source": [
    "steps= 200000\n",
    "batch_step= 1920\n",
    "mse_vali_arra= []\n",
    "mae_vali_arra= []\n",
    "mse_trai_arra= []\n",
    "mae_trai_arra= []\n",
    "step_arra= []\n",
    "batches_n= np.arange(0,G_train_scaled.shape[0],batch_step, int)\n",
    "mixer= np.array(range(G_train_scaled.shape[0]))\n",
    "total_cost= []\n",
    "learning_rate= 0.0095\n",
    "ti= time.time()\n",
    "for step in range(steps):\n",
    "    np.random.shuffle(mixer)\n",
    "    #xi= train_x[mixer,:]\n",
    "    xi= G_train_scaled[mixer,:]\n",
    "    yi= E_train[mixer,:]\n",
    "    cost_batch= 0.0\n",
    "    if step == 0:\n",
    "        loss_train= sess.run(loss, feed_dict={x:G_train_scaled, y:E_train, lear_rate:learning_rate})\n",
    "        print 'initial loss ', loss_train\n",
    "    for n in batches_n:\n",
    "        #Epred = sess.run(Enn, feed_dict={Gi:G[n:n+batch], Ei:E[n:n+batch]})\n",
    "        #weight_lossb= np.square(np.subtract(Epred, E[n:n+batch]))\n",
    "        _, cost= sess.run([optimizer, loss], feed_dict={x:xi[n:n+batch_step,:], y:yi[n:n+batch_step,:], lear_rate:learning_rate})#, DGi:DG[n:n+batch], Fi:F[n:n+batch]})\n",
    "\n",
    "        #cost_batch = cost_batch + cost/numb_size\n",
    "    total_cost.append(cost_batch)\n",
    "    if (step % 100) == 0:\n",
    "    #if (step % 50) == 0:\n",
    "        Ep_train= sess.run(ynn, feed_dict={x:G_train_scaled, y:E_train, lear_rate:learning_rate})\n",
    "        mse = mean_squared_error(E_train, Ep_train)\n",
    "        mae= mean_absolute_error(E_train, Ep_train)\n",
    "        if (step%500) == 0:\n",
    "            print 'step ', step\n",
    "            print(\"train MSE: %.4f MAE %.4f\" % (mse,mae))\n",
    "            print'-----------------------------------------------'\n",
    "        mse_trai_arra.append(mse)\n",
    "        mae_trai_arra.append(mae)\n",
    "        Ep_vali= sess.run(ynn, feed_dict={x:G_vali_scaled, y:E_vali, lear_rate:learning_rate})\n",
    "        mse = mean_squared_error(E_vali, Ep_vali)\n",
    "        mae= mean_absolute_error(E_vali, Ep_vali)\n",
    "        if (step%500) == 0:\n",
    "            print(\"val MSE: %.4f MAE %.4f\" % (mse,mae))\n",
    "            print'###############################################'\n",
    "        mse_vali_arra.append(mse)\n",
    "        mae_vali_arra.append(mae)\n",
    "        step_arra.append(step)"
   ]
  },
  {
   "cell_type": "code",
   "execution_count": null,
   "metadata": {
    "collapsed": false
   },
   "outputs": [],
   "source": [
    "learning_rate= 0.003\n",
    "ti= time.time()\n",
    "for step in range(steps):\n",
    "    np.random.shuffle(mixer)\n",
    "    #xi= train_x[mixer,:]\n",
    "    xi= G_train_scaled[mixer,:]\n",
    "    yi= E_train[mixer,:]\n",
    "    cost_batch= 0.0\n",
    "    if step == 0:\n",
    "        loss_train= sess.run(loss, feed_dict={x:G_train_scaled, y:E_train, lear_rate:learning_rate})\n",
    "        print 'initial loss ', loss_train\n",
    "    for n in batches_n:\n",
    "        #Epred = sess.run(Enn, feed_dict={Gi:G[n:n+batch], Ei:E[n:n+batch]})\n",
    "        #weight_lossb= np.square(np.subtract(Epred, E[n:n+batch]))\n",
    "        _, cost= sess.run([optimizer, loss], feed_dict={x:xi[n:n+batch_step,:], y:yi[n:n+batch_step,:], lear_rate:learning_rate})#, DGi:DG[n:n+batch], Fi:F[n:n+batch]})\n",
    "\n",
    "        #cost_batch = cost_batch + cost/numb_size\n",
    "    total_cost.append(cost_batch)\n",
    "    if (step % 100) == 0:\n",
    "    #if (step % 50) == 0:\n",
    "        Ep_train= sess.run(ynn, feed_dict={x:G_train_scaled, y:E_train, lear_rate:learning_rate})\n",
    "        mse = mean_squared_error(E_train, Ep_train)\n",
    "        mae= mean_absolute_error(E_train, Ep_train)\n",
    "        if (step%500) == 0:\n",
    "            print 'step ', step\n",
    "            print(\"train MSE: %.4f MAE %.4f\" % (mse,mae))\n",
    "            print'-----------------------------------------------'\n",
    "        mse_trai_arra.append(mse)\n",
    "        mae_trai_arra.append(mae)\n",
    "        Ep_vali= sess.run(ynn, feed_dict={x:G_vali_scaled, y:E_vali, lear_rate:learning_rate})\n",
    "        mse = mean_squared_error(E_vali, Ep_vali)\n",
    "        mae= mean_absolute_error(E_vali, Ep_vali)\n",
    "        if (step%500) == 0:\n",
    "            print(\"val MSE: %.4f MAE %.4f\" % (mse,mae))\n",
    "            print'###############################################'\n",
    "        mse_vali_arra.append(mse)\n",
    "        mae_vali_arra.append(mae)\n",
    "        step_arra.append(step)"
   ]
  },
  {
   "cell_type": "code",
   "execution_count": null,
   "metadata": {
    "collapsed": false
   },
   "outputs": [
    {
     "name": "stdout",
     "output_type": "stream",
     "text": [
      "initial loss  0.00746575\n",
      "step  0\n",
      "train MSE: 0.0014 MAE 0.0073\n",
      "-----------------------------------------------\n",
      "val MSE: 0.0559 MAE 0.1359\n",
      "###############################################\n",
      "step  500\n",
      "train MSE: 0.0013 MAE 0.0054\n",
      "-----------------------------------------------\n",
      "val MSE: 0.0560 MAE 0.1358\n",
      "###############################################\n",
      "step  1000\n",
      "train MSE: 0.0013 MAE 0.0052\n",
      "-----------------------------------------------\n",
      "val MSE: 0.0560 MAE 0.1358\n",
      "###############################################\n",
      "step  1500\n",
      "train MSE: 0.0013 MAE 0.0050\n",
      "-----------------------------------------------\n",
      "val MSE: 0.0560 MAE 0.1358\n",
      "###############################################\n",
      "step  2000\n",
      "train MSE: 0.0013 MAE 0.0049\n",
      "-----------------------------------------------\n",
      "val MSE: 0.0560 MAE 0.1358\n",
      "###############################################\n",
      "step  2500\n",
      "train MSE: 0.0013 MAE 0.0049\n",
      "-----------------------------------------------\n",
      "val MSE: 0.0560 MAE 0.1358\n",
      "###############################################\n",
      "step  3000\n",
      "train MSE: 0.0013 MAE 0.0048\n",
      "-----------------------------------------------\n",
      "val MSE: 0.0560 MAE 0.1358\n",
      "###############################################\n"
     ]
    }
   ],
   "source": [
    "learning_rate= 0.00003\n",
    "ti= time.time()\n",
    "for step in range(steps):\n",
    "    np.random.shuffle(mixer)\n",
    "    #xi= train_x[mixer,:]\n",
    "    xi= G_train_scaled[mixer,:]\n",
    "    yi= E_train[mixer,:]\n",
    "    cost_batch= 0.0\n",
    "    if step == 0:\n",
    "        loss_train= sess.run(loss, feed_dict={x:G_train_scaled, y:E_train, lear_rate:learning_rate})\n",
    "        print 'initial loss ', loss_train\n",
    "    for n in batches_n:\n",
    "        #Epred = sess.run(Enn, feed_dict={Gi:G[n:n+batch], Ei:E[n:n+batch]})\n",
    "        #weight_lossb= np.square(np.subtract(Epred, E[n:n+batch]))\n",
    "        _, cost= sess.run([optimizer, loss], feed_dict={x:xi[n:n+batch_step,:], y:yi[n:n+batch_step,:], lear_rate:learning_rate})#, DGi:DG[n:n+batch], Fi:F[n:n+batch]})\n",
    "\n",
    "        #cost_batch = cost_batch + cost/numb_size\n",
    "    total_cost.append(cost_batch)\n",
    "    if (step % 100) == 0:\n",
    "    #if (step % 50) == 0:\n",
    "        Ep_train= sess.run(ynn, feed_dict={x:G_train_scaled, y:E_train, lear_rate:learning_rate})\n",
    "        mse = mean_squared_error(E_train, Ep_train)\n",
    "        mae= mean_absolute_error(E_train, Ep_train)\n",
    "        if (step%500) == 0:\n",
    "            print 'step ', step\n",
    "            print(\"train MSE: %.4f MAE %.4f\" % (mse,mae))\n",
    "            print'-----------------------------------------------'\n",
    "        mse_trai_arra.append(mse)\n",
    "        mae_trai_arra.append(mae)\n",
    "        Ep_vali= sess.run(ynn, feed_dict={x:G_vali_scaled, y:E_vali, lear_rate:learning_rate})\n",
    "        mse = mean_squared_error(E_vali, Ep_vali)\n",
    "        mae= mean_absolute_error(E_vali, Ep_vali)\n",
    "        if (step%500) == 0:\n",
    "            print(\"val MSE: %.4f MAE %.4f\" % (mse,mae))\n",
    "            print'###############################################'\n",
    "        mse_vali_arra.append(mse)\n",
    "        mae_vali_arra.append(mae)\n",
    "        step_arra.append(step)"
   ]
  },
  {
   "cell_type": "code",
   "execution_count": 11,
   "metadata": {
    "collapsed": false
   },
   "outputs": [
    {
     "name": "stdout",
     "output_type": "stream",
     "text": [
      "val MSE: 0.0559 MAE 0.1359\n"
     ]
    }
   ],
   "source": [
    "Ep_vali= sess.run(ynn, feed_dict={x:G_vali_scaled, y:E_vali, lear_rate:learning_rate})\n",
    "mse = mean_squared_error(E_vali, Ep_vali)\n",
    "mae= mean_absolute_error(E_vali, Ep_vali)\n",
    "print(\"val MSE: %.4f MAE %.4f\" % (mse,mae))"
   ]
  },
  {
   "cell_type": "code",
   "execution_count": 13,
   "metadata": {
    "collapsed": false
   },
   "outputs": [
    {
     "data": {
      "image/png": "[encoded data removed]",
      "text/plain": [
       "<matplotlib.figure.Figure at 0x7fc3d0093f90>"
      ]
     },
     "metadata": {},
     "output_type": "display_data"
    }
   ],
   "source": [
    "plt.plot(mae_trai_arra, 'b', mae_vali_arra, 'r')\n",
    "plt.show()"
   ]
  },
  {
   "cell_type": "code",
   "execution_count": 11,
   "metadata": {
    "collapsed": false
   },
   "outputs": [
    {
     "name": "stdout",
     "output_type": "stream",
     "text": [
      "18110.9055598\n"
     ]
    }
   ],
   "source": [
    "print tf-ti"
   ]
  },
  {
   "cell_type": "code",
   "execution_count": 12,
   "metadata": {
    "collapsed": false
   },
   "outputs": [
    {
     "name": "stdout",
     "output_type": "stream",
     "text": [
      "2000\n",
      "2000\n",
      "2000\n"
     ]
    },
    {
     "data": {
      "image/png": "[encoded data removed]",
      "text/plain": [
       "<matplotlib.figure.Figure at 0x7f3acdbdbbd0>"
      ]
     },
     "metadata": {},
     "output_type": "display_data"
    }
   ],
   "source": [
    "print len(trai_arra)\n",
    "print len(vali_arra)\n",
    "print len(step_arra)\n",
    "plt.plot(step_arra[40:], trai_arra[40:], 'b', step_arra[40:], vali_arra[40:], 'r')\n",
    "plt.show()"
   ]
  },
  {
   "cell_type": "code",
   "execution_count": 13,
   "metadata": {
    "collapsed": false
   },
   "outputs": [
    {
     "data": {
      "image/png": "[encoded data removed]",
      "text/plain": [
       "<matplotlib.figure.Figure at 0x7f3ac87bd590>"
      ]
     },
     "metadata": {},
     "output_type": "display_data"
    }
   ],
   "source": [
    "E_train_nn= sess.run(ynn, feed_dict={x:G_train_scaled, y:E_train})\n",
    "\n",
    "plt.plot(E_train_nn, E_train, '*b', E_train, E_train, '*r')\n",
    "plt.show()"
   ]
  },
  {
   "cell_type": "code",
   "execution_count": 14,
   "metadata": {
    "collapsed": false
   },
   "outputs": [
    {
     "name": "stdout",
     "output_type": "stream",
     "text": [
      "1.42552285937\n",
      "2.55390625625e-05\n",
      "0.204786959756\n"
     ]
    }
   ],
   "source": [
    "diff_train= np.abs(np.subtract(E_train_nn, E_train))\n",
    "print np.max(diff_train)\n",
    "print np.min(diff_train)\n",
    "diff_train_aver= np.average(diff_train)\n",
    "print diff_train_aver"
   ]
  },
  {
   "cell_type": "code",
   "execution_count": 15,
   "metadata": {
    "collapsed": false
   },
   "outputs": [
    {
     "data": {
      "image/png": "[encoded data removed]",
      "text/plain": [
       "<matplotlib.figure.Figure at 0x7f3ac86c54d0>"
      ]
     },
     "metadata": {},
     "output_type": "display_data"
    }
   ],
   "source": [
    "n, bins, patches = plt.hist(diff_train, 300, facecolor='g', alpha=0.75)\n",
    "plt.axis([0.0, 0.7, 0, 100])\n",
    "plt.show()"
   ]
  },
  {
   "cell_type": "code",
   "execution_count": 16,
   "metadata": {
    "collapsed": false
   },
   "outputs": [
    {
     "data": {
      "image/png": "[encoded data removed]",
      "text/plain": [
       "<matplotlib.figure.Figure at 0x7f3ab0697710>"
      ]
     },
     "metadata": {},
     "output_type": "display_data"
    }
   ],
   "source": [
    "n, bins, patches = plt.hist(diff_train, 300, facecolor='g', alpha=0.75)\n",
    "plt.axis([0.0, 1.0, 0, 1000])\n",
    "plt.show()"
   ]
  },
  {
   "cell_type": "code",
   "execution_count": 17,
   "metadata": {
    "collapsed": false
   },
   "outputs": [
    {
     "name": "stdout",
     "output_type": "stream",
     "text": [
      "4.0\n",
      "0.760290776563\n"
     ]
    }
   ],
   "source": [
    "print n[160]\n",
    "print bins[160]"
   ]
  },
  {
   "cell_type": "code",
   "execution_count": 10,
   "metadata": {
    "collapsed": false
   },
   "outputs": [
    {
     "data": {
      "image/png": "[encoded data removed]",
      "text/plain": [
       "<matplotlib.figure.Figure at 0x7fc48cefd890>"
      ]
     },
     "metadata": {},
     "output_type": "display_data"
    }
   ],
   "source": [
    "E_vali_nn= sess.run(ynn, feed_dict={x:G_vali_scaled, y:E_vali})\n",
    "\n",
    "plt.plot(E_vali_nn, E_vali, '*b', E_vali, E_vali, '*r')\n",
    "plt.show()"
   ]
  },
  {
   "cell_type": "code",
   "execution_count": 19,
   "metadata": {
    "collapsed": false
   },
   "outputs": [
    {
     "name": "stdout",
     "output_type": "stream",
     "text": [
      "1.21361501563\n",
      "6.8906249453e-06\n",
      "0.219804994049\n"
     ]
    },
    {
     "data": {
      "image/png": "[encoded data removed]",
      "text/plain": [
       "<matplotlib.figure.Figure at 0x7f3acd3a6a90>"
      ]
     },
     "metadata": {},
     "output_type": "display_data"
    }
   ],
   "source": [
    "diff_vali= np.abs(np.subtract(E_vali_nn, E_vali))\n",
    "print np.max(diff_vali)\n",
    "print np.min(diff_vali)\n",
    "diff_vali_aver= np.average(diff_vali)\n",
    "print diff_vali_aver\n",
    "\n",
    "n, bins, patches = plt.hist(diff_vali, 300, facecolor='g', alpha=0.75)\n",
    "plt.axis([0.0, 3.4, 0, 100])\n",
    "plt.show()"
   ]
  },
  {
   "cell_type": "code",
   "execution_count": 20,
   "metadata": {
    "collapsed": true
   },
   "outputs": [],
   "source": [
    "np.save('../analysis/diff_vali_nn_l20_k20_q1_X_oni_48', diff_vali)"
   ]
  },
  {
   "cell_type": "code",
   "execution_count": 18,
   "metadata": {
    "collapsed": true
   },
   "outputs": [],
   "source": [
    "E_nn= sess.run(ynn, feed_dict={x:G_scaled, y:E})\n",
    "E_nn_vali=sess.run(ynn, feed_dict={x:G_scaled[struid_vali], y:E})\n",
    "E_nn_train=sess.run(ynn, feed_dict={x:G_scaled[struid_train], y:E})\n",
    "\n",
    "np.save('E_nn_vali_C10_t_500_F2_I_gauss_48_2', E_nn_vali)\n",
    "np.save('E_vali_C10_t_500_F2_I_gauss_48_2', E[struid_vali])\n",
    "np.save('stru_vali_C10_t_500_F2_I_gauss_48_2', struid_vali)\n",
    "\n",
    "np.save('E_nn_train_C10_t_500_F2_I_gauss_48_2', E_nn_train)\n",
    "np.save('E_train_C10_t_500_F2_I_gauss_48_2', E[struid_train])\n",
    "np.save('stru_train_C10_t_500_F2_I_gauss_48_2', struid_train)"
   ]
  },
  {
   "cell_type": "code",
   "execution_count": 14,
   "metadata": {
    "collapsed": true
   },
   "outputs": [],
   "source": [
    "E_nn= sess.run(ynn, feed_dict={x:G_scaled, y:E})\n",
    "E_nn_vali=sess.run(ynn, feed_dict={x:G_scaled[struid_vali], y:E})\n",
    "E_nn_train=sess.run(ynn, feed_dict={x:G_scaled[struid_train], y:E})\n",
    "\n",
    "np.save('E_nn_vali_C10_t_500_F2_I_gauss_48_1', E_nn_vali)\n",
    "np.save('E_vali_C10_t_500_F2_I_gauss_48_1', E[struid_vali])\n",
    "np.save('stru_vali_C10_t_500_F2_I_gauss_48_1', struid_vali)\n",
    "\n",
    "np.save('E_nn_train_C10_t_500_F2_I_gauss_48_1', E_nn_train)\n",
    "np.save('E_train_C10_t_500_F2_I_gauss_48_1', E[struid_train])\n",
    "np.save('stru_train_C10_t_500_F2_I_gauss_48_1', struid_train)"
   ]
  }
 ],
 "metadata": {
  "kernelspec": {
   "display_name": "Python [conda root]",
   "language": "python",
   "name": "conda-root-py"
  },
  "language_info": {
   "codemirror_mode": {
    "name": "ipython",
    "version": 2
   },
   "file_extension": ".py",
   "mimetype": "text/x-python",
   "name": "python",
   "nbconvert_exporter": "python",
   "pygments_lexer": "ipython2",
   "version": "2.7.13"
  }
 },
 "nbformat": 4,
 "nbformat_minor": 2
}
