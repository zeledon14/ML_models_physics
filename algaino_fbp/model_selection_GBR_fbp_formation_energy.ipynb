{
 "cells": [
  {
   "cell_type": "code",
   "execution_count": null,
   "metadata": {
    "collapsed": true
   },
   "outputs": [],
   "source": [
    "#feat 640 with 0.75 mae 0.0201484900074\n",
    "#\n",
    "# 1744 0.0188208697778 {'loss': 'ls', 'learning_rate': 0.17, 'min_samples_leaf': 4, \n",
    "#'n_estimators': 400, 'min_samples_split': 4, 'max_depth': 6}\n",
    "#\n",
    "\n",
    "#fbp_1120_2b 0.022133499776\n",
    "#{'loss': 'ls', 'learning_rate': 0.15, 'min_samples_leaf': 5, 'n_estimators': 550, \n",
    "# 'min_samples_split': 5, 'max_depth': 5}"
   ]
  },
  {
   "cell_type": "code",
   "execution_count": 8,
   "metadata": {
    "collapsed": true
   },
   "outputs": [],
   "source": [
    "import numpy as np\n",
    "from sklearn import preprocessing\n",
    "import re\n",
    "import os\n",
    "import matplotlib.pyplot as plt\n",
    "from sklearn import ensemble\n",
    "from sklearn.metrics import mean_squared_error\n",
    "from sklearn.metrics import mean_absolute_error\n",
    "from sklearn.metrics import mean_absolute_error"
   ]
  },
  {
   "cell_type": "code",
   "execution_count": 2,
   "metadata": {
    "collapsed": false
   },
   "outputs": [
    {
     "name": "stdout",
     "output_type": "stream",
     "text": [
      "training  1920\n",
      "validation 480\n"
     ]
    }
   ],
   "source": [
    "enert= np.load('../fbp_features/fe_1744.npy')\n",
    "G= np.load('../fbp_features/fbp_1744.npy')\n",
    "g_st= preprocessing.MaxAbsScaler().fit_transform(G)\n",
    "G_scaled= g_st\n",
    "E=np.reshape(enert,(len(enert),1))\n",
    "\n",
    "mixer= np.array(range(G_scaled.shape[0]))\n",
    "for _ in range(10000):\n",
    "    np.random.shuffle(mixer)\n",
    "n= int(len(mixer)*0.80) # marking the 90%\n",
    "G_train_scaled= G_scaled[mixer[:n]]\n",
    "G_vali_scaled= G_scaled[mixer[n:]]\n",
    "E_train= E[mixer[:n]]\n",
    "E_vali= E[mixer[n:]]\n",
    "trai_id= mixer[:n]\n",
    "vali_id= mixer[n:]\n",
    "print 'training ', len(trai_id)\n",
    "print 'validation', len(vali_id)"
   ]
  },
  {
   "cell_type": "code",
   "execution_count": null,
   "metadata": {
    "collapsed": false
   },
   "outputs": [
    {
     "name": "stderr",
     "output_type": "stream",
     "text": [
      "/home/accounts/zeledon/anaconda2/lib/python2.7/site-packages/sklearn/utils/validation.py:761: DataConversionWarning: A column-vector y was passed when a 1d array was expected. Please change the shape of y to (n_samples, ), for example using ravel().\n",
      "  y = column_or_1d(y, warn=True)\n"
     ]
    }
   ],
   "source": [
    "n_estimators= [ 400, 500]\n",
    "max_depth= [5, 6, 7]\n",
    "learning_rate= [ 0.13, 0.15, 0.17]\n",
    "min_samp= [4, 6]\n",
    "#n_estimators= [ 400, 500]\n",
    "#max_depth= [5, 7, 9]\n",
    "#learning_rate= [0.109, 0.12, 0.15]\n",
    "#min_samp= [4]\n",
    "parameters_arra= []\n",
    "mae_arra= []\n",
    "for ne in n_estimators:\n",
    "    for md in max_depth:\n",
    "        for lr in learning_rate:\n",
    "            for ms in min_samp:\n",
    "        \n",
    "                params = {'n_estimators': ne, 'max_depth': md, 'min_samples_split': ms,\n",
    "                          'learning_rate': lr, 'loss': 'ls', 'min_samples_leaf':ms}\n",
    "                parameters_arra.append(params)\n",
    "                clf = ensemble.GradientBoostingRegressor(**params)\n",
    "\n",
    "                clf.fit(G_train_scaled, E_train)\n",
    "                mae_arra.append(mean_absolute_error(E_vali, clf.predict(G_vali_scaled)))\n",
    "            \n",
    "mae_arra= np.array(mae_arra)"
   ]
  },
  {
   "cell_type": "code",
   "execution_count": 4,
   "metadata": {
    "collapsed": false
   },
   "outputs": [
    {
     "name": "stdout",
     "output_type": "stream",
     "text": [
      "0.0202091835151\n",
      "{'loss': 'ls', 'learning_rate': 0.15, 'min_samples_leaf': 4, 'n_estimators': 500, 'min_samples_split': 4, 'max_depth': 5}\n"
     ]
    }
   ],
   "source": [
    "id_para= np.argsort(mae_arra)\n",
    "print mae_arra[id_para[0]]\n",
    "print parameters_arra[id_para[0]]"
   ]
  },
  {
   "cell_type": "code",
   "execution_count": 5,
   "metadata": {
    "collapsed": false
   },
   "outputs": [
    {
     "name": "stdout",
     "output_type": "stream",
     "text": [
      "0.0202091835151\n",
      "{'loss': 'ls', 'learning_rate': 0.15, 'min_samples_leaf': 4, 'n_estimators': 500, 'min_samples_split': 4, 'max_depth': 5}\n",
      "****************\n",
      "0.0202151833567\n",
      "{'loss': 'ls', 'learning_rate': 0.15, 'min_samples_leaf': 4, 'n_estimators': 400, 'min_samples_split': 4, 'max_depth': 5}\n",
      "****************\n",
      "0.0203749071742\n",
      "{'loss': 'ls', 'learning_rate': 0.17, 'min_samples_leaf': 6, 'n_estimators': 400, 'min_samples_split': 6, 'max_depth': 7}\n",
      "****************\n",
      "0.0204560439545\n",
      "{'loss': 'ls', 'learning_rate': 0.15, 'min_samples_leaf': 4, 'n_estimators': 500, 'min_samples_split': 4, 'max_depth': 7}\n",
      "****************\n",
      "0.0204813792039\n",
      "{'loss': 'ls', 'learning_rate': 0.17, 'min_samples_leaf': 6, 'n_estimators': 500, 'min_samples_split': 6, 'max_depth': 7}\n",
      "****************\n",
      "0.0205018914809\n",
      "{'loss': 'ls', 'learning_rate': 0.15, 'min_samples_leaf': 6, 'n_estimators': 400, 'min_samples_split': 6, 'max_depth': 7}\n",
      "****************\n",
      "0.0205700808542\n",
      "{'loss': 'ls', 'learning_rate': 0.15, 'min_samples_leaf': 6, 'n_estimators': 500, 'min_samples_split': 6, 'max_depth': 5}\n",
      "****************\n",
      "0.0205802878169\n",
      "{'loss': 'ls', 'learning_rate': 0.13, 'min_samples_leaf': 4, 'n_estimators': 400, 'min_samples_split': 4, 'max_depth': 5}\n",
      "****************\n",
      "0.0205813236563\n",
      "{'loss': 'ls', 'learning_rate': 0.15, 'min_samples_leaf': 6, 'n_estimators': 400, 'min_samples_split': 6, 'max_depth': 5}\n",
      "****************\n",
      "0.0205906415346\n",
      "{'loss': 'ls', 'learning_rate': 0.13, 'min_samples_leaf': 4, 'n_estimators': 500, 'min_samples_split': 4, 'max_depth': 6}\n",
      "****************\n",
      "0.0206356794669\n",
      "{'loss': 'ls', 'learning_rate': 0.15, 'min_samples_leaf': 4, 'n_estimators': 400, 'min_samples_split': 4, 'max_depth': 7}\n",
      "****************\n",
      "0.0206395363414\n",
      "{'loss': 'ls', 'learning_rate': 0.13, 'min_samples_leaf': 6, 'n_estimators': 500, 'min_samples_split': 6, 'max_depth': 6}\n",
      "****************\n",
      "0.0206717334487\n",
      "{'loss': 'ls', 'learning_rate': 0.15, 'min_samples_leaf': 6, 'n_estimators': 500, 'min_samples_split': 6, 'max_depth': 7}\n",
      "****************\n",
      "0.0206865081956\n",
      "{'loss': 'ls', 'learning_rate': 0.17, 'min_samples_leaf': 6, 'n_estimators': 500, 'min_samples_split': 6, 'max_depth': 5}\n",
      "****************\n",
      "0.0206920202741\n",
      "{'loss': 'ls', 'learning_rate': 0.13, 'min_samples_leaf': 4, 'n_estimators': 500, 'min_samples_split': 4, 'max_depth': 5}\n",
      "****************\n",
      "0.0206963315971\n",
      "{'loss': 'ls', 'learning_rate': 0.13, 'min_samples_leaf': 4, 'n_estimators': 400, 'min_samples_split': 4, 'max_depth': 6}\n",
      "****************\n",
      "0.0207379348058\n",
      "{'loss': 'ls', 'learning_rate': 0.13, 'min_samples_leaf': 6, 'n_estimators': 500, 'min_samples_split': 6, 'max_depth': 5}\n",
      "****************\n",
      "0.0207734821736\n",
      "{'loss': 'ls', 'learning_rate': 0.13, 'min_samples_leaf': 6, 'n_estimators': 400, 'min_samples_split': 6, 'max_depth': 5}\n",
      "****************\n",
      "0.020829908891\n",
      "{'loss': 'ls', 'learning_rate': 0.13, 'min_samples_leaf': 6, 'n_estimators': 400, 'min_samples_split': 6, 'max_depth': 6}\n",
      "****************\n",
      "0.0208410951065\n",
      "{'loss': 'ls', 'learning_rate': 0.17, 'min_samples_leaf': 6, 'n_estimators': 400, 'min_samples_split': 6, 'max_depth': 5}\n",
      "****************\n",
      "0.0208465647054\n",
      "{'loss': 'ls', 'learning_rate': 0.13, 'min_samples_leaf': 6, 'n_estimators': 500, 'min_samples_split': 6, 'max_depth': 7}\n",
      "****************\n",
      "0.0208884831648\n",
      "{'loss': 'ls', 'learning_rate': 0.13, 'min_samples_leaf': 4, 'n_estimators': 500, 'min_samples_split': 4, 'max_depth': 7}\n",
      "****************\n",
      "0.0209318732234\n",
      "{'loss': 'ls', 'learning_rate': 0.13, 'min_samples_leaf': 6, 'n_estimators': 400, 'min_samples_split': 6, 'max_depth': 7}\n",
      "****************\n",
      "0.0209571514347\n",
      "{'loss': 'ls', 'learning_rate': 0.15, 'min_samples_leaf': 6, 'n_estimators': 500, 'min_samples_split': 6, 'max_depth': 6}\n",
      "****************\n",
      "0.021130778331\n",
      "{'loss': 'ls', 'learning_rate': 0.17, 'min_samples_leaf': 6, 'n_estimators': 500, 'min_samples_split': 6, 'max_depth': 6}\n",
      "****************\n",
      "0.0211852304106\n",
      "{'loss': 'ls', 'learning_rate': 0.17, 'min_samples_leaf': 6, 'n_estimators': 400, 'min_samples_split': 6, 'max_depth': 6}\n",
      "****************\n",
      "0.021245472429\n",
      "{'loss': 'ls', 'learning_rate': 0.13, 'min_samples_leaf': 4, 'n_estimators': 400, 'min_samples_split': 4, 'max_depth': 7}\n",
      "****************\n",
      "0.0212823977227\n",
      "{'loss': 'ls', 'learning_rate': 0.17, 'min_samples_leaf': 4, 'n_estimators': 400, 'min_samples_split': 4, 'max_depth': 7}\n",
      "****************\n",
      "0.0212871813085\n",
      "{'loss': 'ls', 'learning_rate': 0.17, 'min_samples_leaf': 4, 'n_estimators': 400, 'min_samples_split': 4, 'max_depth': 5}\n",
      "****************\n",
      "0.0212877899303\n",
      "{'loss': 'ls', 'learning_rate': 0.15, 'min_samples_leaf': 6, 'n_estimators': 400, 'min_samples_split': 6, 'max_depth': 6}\n",
      "****************\n",
      "0.0213292475735\n",
      "{'loss': 'ls', 'learning_rate': 0.15, 'min_samples_leaf': 4, 'n_estimators': 400, 'min_samples_split': 4, 'max_depth': 6}\n",
      "****************\n",
      "0.0213405311854\n",
      "{'loss': 'ls', 'learning_rate': 0.17, 'min_samples_leaf': 4, 'n_estimators': 500, 'min_samples_split': 4, 'max_depth': 5}\n",
      "****************\n",
      "0.0213828800773\n",
      "{'loss': 'ls', 'learning_rate': 0.15, 'min_samples_leaf': 4, 'n_estimators': 500, 'min_samples_split': 4, 'max_depth': 6}\n",
      "****************\n",
      "0.0214203846835\n",
      "{'loss': 'ls', 'learning_rate': 0.17, 'min_samples_leaf': 4, 'n_estimators': 500, 'min_samples_split': 4, 'max_depth': 6}\n",
      "****************\n",
      "0.0215561772683\n",
      "{'loss': 'ls', 'learning_rate': 0.17, 'min_samples_leaf': 4, 'n_estimators': 500, 'min_samples_split': 4, 'max_depth': 7}\n",
      "****************\n",
      "0.0217084807654\n",
      "{'loss': 'ls', 'learning_rate': 0.17, 'min_samples_leaf': 4, 'n_estimators': 400, 'min_samples_split': 4, 'max_depth': 6}\n",
      "****************\n"
     ]
    }
   ],
   "source": [
    "for i in id_para:\n",
    "    print mae_arra[i]\n",
    "    print parameters_arra[i]\n",
    "    print '****************'"
   ]
  },
  {
   "cell_type": "code",
   "execution_count": 6,
   "metadata": {
    "collapsed": false
   },
   "outputs": [
    {
     "data": {
      "image/png": "[encoded data removed]",
      "text/plain": [
       "<matplotlib.figure.Figure at 0x7f54520c9590>"
      ]
     },
     "metadata": {},
     "output_type": "display_data"
    }
   ],
   "source": [
    "plt.plot(mae_arra, '*b')\n",
    "plt.savefig('model_selection_fbp_algaino_formation_E_mae_model.pdf', format='pdf', bbox_inches='tight')\n",
    "plt.show()"
   ]
  },
  {
   "cell_type": "code",
   "execution_count": 2,
   "metadata": {
    "collapsed": false
   },
   "outputs": [
    {
     "name": "stdout",
     "output_type": "stream",
     "text": [
      "*********************\n",
      "g_st  (2400, 1744)\n",
      "enert  (2400,)\n",
      "*********************\n",
      "g_st  (2400, 1744)\n",
      "enert  (2400,)\n"
     ]
    }
   ],
   "source": [
    "numb_feat='1744'\n",
    "exp_name='formation_E_algaino'\n",
    "feat_type='fbp'\n",
    "enert= np.load('../fbp_features/fe_1744.npy')\n",
    "G= np.load('../fbp_features/fbp_1744.npy')\n",
    "g_st= preprocessing.MaxAbsScaler().fit_transform(G)\n",
    "print '*********************'\n",
    "print 'g_st ', g_st.shape\n",
    "print 'enert ', enert.shape\n",
    "print '*********************'\n",
    "print 'g_st ', g_st.shape\n",
    "print 'enert ', enert.shape\n",
    "np.save('g_scaled_%s_%s_%s'%(feat_type,numb_feat,exp_name), g_st)"
   ]
  },
  {
   "cell_type": "code",
   "execution_count": 3,
   "metadata": {
    "collapsed": false
   },
   "outputs": [
    {
     "name": "stdout",
     "output_type": "stream",
     "text": [
      "(2400, 1)\n",
      "(2400, 1744)\n",
      "G_train_scaled-> (2160, 1744)\n",
      "G_vali_scaled-> (240, 1744)\n",
      "E_train-> (2160, 1)\n",
      "E_vali-> (240, 1)\n"
     ]
    }
   ],
   "source": [
    "#G_scaled= g_st[:20000,:]\n",
    "#E=np.reshape(enert[:20000],(len(enert[:20000]),1))\n",
    "G_scaled= g_st\n",
    "E=np.reshape(enert,(len(enert),1))\n",
    "print E.shape\n",
    "print G_scaled.shape\n",
    "\n",
    "mixer= np.array(range(G_scaled.shape[0]))\n",
    "for _ in range(10000):\n",
    "    np.random.shuffle(mixer)\n",
    "n= int(len(mixer)*0.90) # marking the 90%\n",
    "G_train_scaled= G_scaled[mixer[:n]]\n",
    "G_vali_scaled= G_scaled[mixer[n:]]\n",
    "E_train= E[mixer[:n]]\n",
    "E_vali= E[mixer[n:]]\n",
    "trai_id= mixer[:n]\n",
    "vali_id= mixer[n:]\n",
    "print 'G_train_scaled->', G_train_scaled.shape\n",
    "print 'G_vali_scaled->', G_vali_scaled.shape\n",
    "print 'E_train->', E_train.shape\n",
    "print 'E_vali->', E_vali.shape\n",
    "\n",
    "np.save('E_targ_%s_%s_%s'%(feat_type,numb_feat,exp_name), E)\n",
    "np.save('trai_id_%s_%s_%s'%(feat_type,numb_feat,exp_name), trai_id)\n",
    "np.save('vali_id_%s_%s_%s'%(feat_type,numb_feat,exp_name), vali_id)"
   ]
  },
  {
   "cell_type": "code",
   "execution_count": 4,
   "metadata": {
    "collapsed": false
   },
   "outputs": [
    {
     "name": "stderr",
     "output_type": "stream",
     "text": [
      "/home/accounts/zeledon/anaconda2/lib/python2.7/site-packages/sklearn/utils/validation.py:761: DataConversionWarning: A column-vector y was passed when a 1d array was expected. Please change the shape of y to (n_samples, ), for example using ravel().\n",
      "  y = column_or_1d(y, warn=True)\n"
     ]
    },
    {
     "name": "stdout",
     "output_type": "stream",
     "text": [
      "val MSE: 0.0009 MAE 0.0184\n",
      "tra MSE: 0.0001 MAE 0.0007\n"
     ]
    }
   ],
   "source": [
    "#params = parameters_arra[id_para[0]]\n",
    "#params= {'loss': 'ls', 'learning_rate': 0.15, 'min_samples_leaf': 4, \n",
    "#         'n_estimators': 500, 'min_samples_split': 4, 'max_depth': 5}\n",
    "params= {'loss': 'ls', 'learning_rate': 0.17, 'min_samples_leaf': 4, \n",
    "         'n_estimators': 400, 'min_samples_split': 4, 'max_depth': 6}\n",
    "clf = ensemble.GradientBoostingRegressor(**params)\n",
    "clf.fit(G_train_scaled, E_train)\n",
    "mse = mean_squared_error(E_vali, clf.predict(G_vali_scaled))\n",
    "mae= mean_absolute_error(E_vali, clf.predict(G_vali_scaled))\n",
    "print(\"val MSE: %.4f MAE %.4f\" % (mse,mae))\n",
    "mse = mean_squared_error(E_train, clf.predict(G_train_scaled))\n",
    "mae= mean_absolute_error(E_train, clf.predict(G_train_scaled))\n",
    "print(\"tra MSE: %.4f MAE %.4f\" % (mse,mae))"
   ]
  },
  {
   "cell_type": "code",
   "execution_count": 5,
   "metadata": {
    "collapsed": false
   },
   "outputs": [
    {
     "name": "stdout",
     "output_type": "stream",
     "text": [
      "val MSE: 0.0008838 MAE 0.01845\n",
      "tra MSE: 0.0000595 MAE 0.00073\n"
     ]
    }
   ],
   "source": [
    "mse = mean_squared_error(E_vali, clf.predict(G_vali_scaled))\n",
    "mae= mean_absolute_error(E_vali, clf.predict(G_vali_scaled))\n",
    "print(\"val MSE: %.7f MAE %.5f\" % (mse,mae))\n",
    "mse = mean_squared_error(E_train, clf.predict(G_train_scaled))\n",
    "mae= mean_absolute_error(E_train, clf.predict(G_train_scaled))\n",
    "print(\"tra MSE: %.7f MAE %.5f\" % (mse,mae))"
   ]
  },
  {
   "cell_type": "code",
   "execution_count": 6,
   "metadata": {
    "collapsed": false
   },
   "outputs": [],
   "source": [
    "Ep= clf.predict(g_st)\n",
    "np.save('E_pred_%s_%s_%s'%(feat_type,numb_feat,exp_name), Ep)"
   ]
  },
  {
   "cell_type": "code",
   "execution_count": null,
   "metadata": {
    "collapsed": true
   },
   "outputs": [],
   "source": []
  },
  {
   "cell_type": "code",
   "execution_count": null,
   "metadata": {
    "collapsed": true
   },
   "outputs": [],
   "source": []
  },
  {
   "cell_type": "code",
   "execution_count": 7,
   "metadata": {
    "collapsed": false
   },
   "outputs": [
    {
     "name": "stdout",
     "output_type": "stream",
     "text": [
      "(240,)\n",
      "(240,)\n"
     ]
    },
    {
     "ename": "NameError",
     "evalue": "name 'mae_arra' is not defined",
     "output_type": "error",
     "traceback": [
      "\u001b[0;31m---------------------------------------------------------------------------\u001b[0m",
      "\u001b[0;31mNameError\u001b[0m                                 Traceback (most recent call last)",
      "\u001b[0;32m<ipython-input-7-4b6265bd1c7e>\u001b[0m in \u001b[0;36m<module>\u001b[0;34m()\u001b[0m\n\u001b[1;32m      4\u001b[0m \u001b[0mEp\u001b[0m\u001b[0;34m=\u001b[0m \u001b[0mclf\u001b[0m\u001b[0;34m.\u001b[0m\u001b[0mpredict\u001b[0m\u001b[0;34m(\u001b[0m\u001b[0mG_vali_scaled\u001b[0m\u001b[0;34m)\u001b[0m\u001b[0;34m\u001b[0m\u001b[0m\n\u001b[1;32m      5\u001b[0m \u001b[0;32mprint\u001b[0m \u001b[0mEp\u001b[0m\u001b[0;34m.\u001b[0m\u001b[0mshape\u001b[0m\u001b[0;34m\u001b[0m\u001b[0m\n\u001b[0;32m----> 6\u001b[0;31m \u001b[0;32mprint\u001b[0m \u001b[0mmae_arra\u001b[0m\u001b[0;34m.\u001b[0m\u001b[0mshape\u001b[0m\u001b[0;34m\u001b[0m\u001b[0m\n\u001b[0m\u001b[1;32m      7\u001b[0m \u001b[0mmae_id_sort\u001b[0m\u001b[0;34m=\u001b[0m \u001b[0mnp\u001b[0m\u001b[0;34m.\u001b[0m\u001b[0margsort\u001b[0m\u001b[0;34m(\u001b[0m\u001b[0mmae_arra\u001b[0m\u001b[0;34m)\u001b[0m\u001b[0;34m\u001b[0m\u001b[0m\n\u001b[1;32m      8\u001b[0m \u001b[0mid_95\u001b[0m\u001b[0;34m=\u001b[0m \u001b[0mint\u001b[0m\u001b[0;34m(\u001b[0m\u001b[0mlen\u001b[0m\u001b[0;34m(\u001b[0m\u001b[0mmae_id_sort\u001b[0m\u001b[0;34m)\u001b[0m\u001b[0;34m*\u001b[0m\u001b[0;36m0.95\u001b[0m\u001b[0;34m)\u001b[0m\u001b[0;34m\u001b[0m\u001b[0m\n",
      "\u001b[0;31mNameError\u001b[0m: name 'mae_arra' is not defined"
     ]
    }
   ],
   "source": [
    "#getting 95% percentile\n",
    "Et= np.squeeze(E_vali)\n",
    "print Et.shape\n",
    "Ep= clf.predict(G_vali_scaled)\n",
    "print Ep.shape\n",
    "print mae_arra.shape\n",
    "mae_id_sort= np.argsort(mae_arra)\n",
    "id_95= int(len(mae_id_sort)*0.95)\n",
    "print id_95"
   ]
  },
  {
   "cell_type": "code",
   "execution_count": 28,
   "metadata": {
    "collapsed": false
   },
   "outputs": [
    {
     "name": "stdout",
     "output_type": "stream",
     "text": [
      "0.0189465576437\n"
     ]
    }
   ],
   "source": [
    "#print mean_absolute_error(mae_arra[mae_id_sort[:id_95]])\n",
    "print mean_absolute_error(Et[mae_id_sort[:id_95]], Ep[mae_id_sort[:id_95]])"
   ]
  },
  {
   "cell_type": "code",
   "execution_count": null,
   "metadata": {
    "collapsed": true
   },
   "outputs": [],
   "source": [
    "[mae_id_sort[:id_95]]"
   ]
  },
  {
   "cell_type": "code",
   "execution_count": null,
   "metadata": {
    "collapsed": true
   },
   "outputs": [],
   "source": []
  },
  {
   "cell_type": "code",
   "execution_count": 15,
   "metadata": {
    "collapsed": true
   },
   "outputs": [],
   "source": [
    "def RMSLE(y_t, y_p):\n",
    "    x= np.average(np.log10(np.divide(np.add(y_p, 1.0), np.add(y_t, 1.0)))**2.0)\n",
    "    return x**0.5"
   ]
  },
  {
   "cell_type": "code",
   "execution_count": 16,
   "metadata": {
    "collapsed": false
   },
   "outputs": [
    {
     "name": "stdout",
     "output_type": "stream",
     "text": [
      "0.0522449922223\n"
     ]
    }
   ],
   "source": [
    "print RMSLE(E_vali, clf.predict(G_vali_scaled))"
   ]
  },
  {
   "cell_type": "code",
   "execution_count": null,
   "metadata": {
    "collapsed": true
   },
   "outputs": [],
   "source": []
  },
  {
   "cell_type": "code",
   "execution_count": 5,
   "metadata": {
    "collapsed": false
   },
   "outputs": [
    {
     "data": {
      "image/png": "[encoded data removed]",
      "text/plain": [
       "<matplotlib.figure.Figure at 0x7fc2983a4290>"
      ]
     },
     "metadata": {},
     "output_type": "display_data"
    },
    {
     "data": {
      "image/png": "[encoded data removed]",
      "text/plain": [
       "<matplotlib.figure.Figure at 0x7fc233d8ff90>"
      ]
     },
     "metadata": {},
     "output_type": "display_data"
    },
    {
     "name": "stdout",
     "output_type": "stream",
     "text": [
      "MSE: 0.0002\n"
     ]
    }
   ],
   "source": [
    "Ebr_vali= clf.predict(G_vali_scaled)\n",
    "\n",
    "Ebr_train= clf.predict(G_train_scaled)\n",
    "\n",
    "plt.plot(Ebr_train, np.squeeze(E_train), '*g', Ebr_train, Ebr_train, '*b')\n",
    "plt.show()\n",
    "\n",
    "plt.plot(Ebr_vali, np.squeeze(E_vali), '*g', Ebr_vali, Ebr_vali, '*b')\n",
    "plt.show()\n",
    "\n",
    "mse = mean_squared_error(E_train, clf.predict(G_train_scaled))\n",
    "print(\"MSE: %.4f\" % mse)"
   ]
  },
  {
   "cell_type": "code",
   "execution_count": 8,
   "metadata": {
    "collapsed": false
   },
   "outputs": [
    {
     "name": "stdout",
     "output_type": "stream",
     "text": [
      "(240, 1)\n"
     ]
    }
   ],
   "source": [
    "print E_vali.shape\n",
    "E_vali1d= np.squeeze(E_vali)"
   ]
  },
  {
   "cell_type": "code",
   "execution_count": 9,
   "metadata": {
    "collapsed": false
   },
   "outputs": [
    {
     "name": "stdout",
     "output_type": "stream",
     "text": [
      "(240,)\n"
     ]
    }
   ],
   "source": [
    "E_b= clf.predict(G_vali_scaled)\n",
    "print E_b.shape"
   ]
  },
  {
   "cell_type": "code",
   "execution_count": 10,
   "metadata": {
    "collapsed": false
   },
   "outputs": [
    {
     "name": "stdout",
     "output_type": "stream",
     "text": [
      "0.020570270253\n"
     ]
    }
   ],
   "source": [
    "print np.average(np.abs(np.subtract(E_vali1d, E_b)))"
   ]
  },
  {
   "cell_type": "code",
   "execution_count": 11,
   "metadata": {
    "collapsed": false
   },
   "outputs": [
    {
     "name": "stdout",
     "output_type": "stream",
     "text": [
      "0.409292406049\n",
      "7.72510498391e-06\n",
      "0.020570270253\n"
     ]
    },
    {
     "data": {
      "image/png": "[encoded data removed]",
      "text/plain": [
       "<matplotlib.figure.Figure at 0x7ff5a22a9090>"
      ]
     },
     "metadata": {},
     "output_type": "display_data"
    }
   ],
   "source": [
    "diff_vali= np.abs(np.subtract(Ebr_vali, np.squeeze(E_vali)))\n",
    "print np.max(diff_vali)\n",
    "print np.min(diff_vali)\n",
    "diff_vali_aver= np.average(diff_vali)\n",
    "print diff_vali_aver\n",
    "\n",
    "n, bins, patches = plt.hist(diff_vali, 300, facecolor='g', alpha=0.75)\n",
    "plt.axis([0.0, 2.0, 0, 0.15])\n",
    "for item in patches:\n",
    "    item.set_height(item.get_height()/sum(n))\n",
    "plt.show()"
   ]
  },
  {
   "cell_type": "code",
   "execution_count": 65,
   "metadata": {
    "collapsed": false
   },
   "outputs": [],
   "source": [
    "np.save('../analysis/diff_vali_grad_bost_X_oni_48', diff_vali)"
   ]
  },
  {
   "cell_type": "code",
   "execution_count": 12,
   "metadata": {
    "collapsed": false
   },
   "outputs": [
    {
     "data": {
      "image/png": "[encoded data removed]",
      "text/plain": [
       "<matplotlib.figure.Figure at 0x7ff5a21cfb90>"
      ]
     },
     "metadata": {},
     "output_type": "display_data"
    }
   ],
   "source": [
    "plt.plot(Ebr_vali, np.squeeze(E_vali), '*g')\n",
    "plt.show()"
   ]
  },
  {
   "cell_type": "code",
   "execution_count": null,
   "metadata": {
    "collapsed": true
   },
   "outputs": [],
   "source": []
  }
 ],
 "metadata": {
  "kernelspec": {
   "display_name": "Python [conda root]",
   "language": "python",
   "name": "conda-root-py"
  },
  "language_info": {
   "codemirror_mode": {
    "name": "ipython",
    "version": 2
   },
   "file_extension": ".py",
   "mimetype": "text/x-python",
   "name": "python",
   "nbconvert_exporter": "python",
   "pygments_lexer": "ipython2",
   "version": "2.7.13"
  }
 },
 "nbformat": 4,
 "nbformat_minor": 2
}
