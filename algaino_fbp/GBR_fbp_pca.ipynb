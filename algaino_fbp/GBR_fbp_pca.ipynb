{
 "cells": [
  {
   "cell_type": "code",
   "execution_count": 1,
   "metadata": {
    "collapsed": true
   },
   "outputs": [],
   "source": [
    "import numpy as np\n",
    "from sklearn import preprocessing\n",
    "import re\n",
    "import os\n",
    "import matplotlib.pyplot as plt\n",
    "from sklearn import ensemble\n",
    "from sklearn.metrics import mean_squared_error\n",
    "from sklearn.decomposition import PCA"
   ]
  },
  {
   "cell_type": "code",
   "execution_count": 2,
   "metadata": {
    "collapsed": false
   },
   "outputs": [
    {
     "name": "stdout",
     "output_type": "stream",
     "text": [
      "*********************\n",
      "g_st  (1000, 1175)\n",
      "enert  (1000,)\n"
     ]
    }
   ],
   "source": [
    "enert= np.loadtxt('../feat_data/PBE0energies.txt', comments='#')\n",
    "G= np.load('../feat_data/fbp_1175_2b_2_3_3b_5.npy')\n",
    "g_st= preprocessing.MaxAbsScaler().fit_transform(G)\n",
    "print '*********************'\n",
    "print 'g_st ', g_st.shape\n",
    "print 'enert ', enert.shape\n",
    "\n",
    "pca = PCA(n_components=100)\n",
    "g_st= pca.fit_transform(g_st)"
   ]
  },
  {
   "cell_type": "code",
   "execution_count": 3,
   "metadata": {
    "collapsed": false
   },
   "outputs": [
    {
     "name": "stdout",
     "output_type": "stream",
     "text": [
      "(1000, 1)\n",
      "(1000, 100)\n",
      "G_train_scaled-> (900, 100)\n",
      "G_vali_scaled-> (100, 100)\n",
      "E_train-> (900, 1)\n",
      "E_vali-> (100, 1)\n"
     ]
    }
   ],
   "source": [
    "#G_scaled= g_st[:20000,:]\n",
    "#E=np.reshape(enert[:20000],(len(enert[:20000]),1))\n",
    "G_scaled= g_st\n",
    "E=np.reshape(enert,(len(enert),1))\n",
    "print E.shape\n",
    "print G_scaled.shape\n",
    "\n",
    "mixer= np.array(range(G_scaled.shape[0]))\n",
    "for _ in range(10000):\n",
    "    np.random.shuffle(mixer)\n",
    "n= int(len(mixer)*0.90) # marking the 90%\n",
    "G_train_scaled= G_scaled[mixer[:n]]\n",
    "G_vali_scaled= G_scaled[mixer[n:]]\n",
    "E_train= E[mixer[:n]]\n",
    "E_vali= E[mixer[n:]]\n",
    "trai_id= mixer[:n]\n",
    "vali_id= mixer[n:]\n",
    "print 'G_train_scaled->', G_train_scaled.shape\n",
    "print 'G_vali_scaled->', G_vali_scaled.shape\n",
    "print 'E_train->', E_train.shape\n",
    "print 'E_vali->', E_vali.shape"
   ]
  },
  {
   "cell_type": "code",
   "execution_count": 4,
   "metadata": {
    "collapsed": false
   },
   "outputs": [
    {
     "name": "stderr",
     "output_type": "stream",
     "text": [
      "/home/accounts/zeledon/anaconda2/lib/python2.7/site-packages/sklearn/utils/validation.py:761: DataConversionWarning: A column-vector y was passed when a 1d array was expected. Please change the shape of y to (n_samples, ), for example using ravel().\n",
      "  y = column_or_1d(y, warn=True)\n"
     ]
    },
    {
     "name": "stdout",
     "output_type": "stream",
     "text": [
      "MSE: 1753.5636\n"
     ]
    }
   ],
   "source": [
    "#params = {'n_estimators': 700, 'max_depth': 5, 'min_samples_split': 10,\n",
    "#          'learning_rate': 0.08090, 'loss': 'ls', 'min_samples_leaf':10} #mse vali 1958.7833, trai 0.0309\n",
    "#params = {'n_estimators': 600, 'max_depth': 3, 'min_samples_split': 6,\n",
    "#          'learning_rate': 0.090, 'loss': 'ls', 'min_samples_leaf':6} #mse vali 1612.5797, trai 26.2255\n",
    "params = {'n_estimators': 500, 'max_depth': 2, 'min_samples_split': 4,\n",
    "          'learning_rate': 0.0950, 'loss': 'ls', 'min_samples_leaf':4} #mse vali 1612.5797, trai 26.2255\n",
    "clf = ensemble.GradientBoostingRegressor(**params)\n",
    "\n",
    "clf.fit(G_train_scaled, E_train)\n",
    "mse = mean_squared_error(E_vali, clf.predict(G_vali_scaled))\n",
    "print(\"MSE: %.4f\" % mse)"
   ]
  },
  {
   "cell_type": "code",
   "execution_count": 12,
   "metadata": {
    "collapsed": false
   },
   "outputs": [
    {
     "data": {
      "image/png": "[encoded data removed]",
      "text/plain": [
       "<matplotlib.figure.Figure at 0x7fc2abddd550>"
      ]
     },
     "metadata": {},
     "output_type": "display_data"
    },
    {
     "data": {
      "image/png": "[encoded data removed]",
      "text/plain": [
       "<matplotlib.figure.Figure at 0x7fc2abb2afd0>"
      ]
     },
     "metadata": {},
     "output_type": "display_data"
    },
    {
     "name": "stdout",
     "output_type": "stream",
     "text": [
      "MSE: 9.7355\n"
     ]
    }
   ],
   "source": [
    "Ebr_vali= clf.predict(G_vali_scaled)\n",
    "\n",
    "Ebr_train= clf.predict(G_train_scaled)\n",
    "\n",
    "plt.plot(Ebr_train, np.squeeze(E_train), '*g', Ebr_train, Ebr_train, '*b')\n",
    "plt.show()\n",
    "\n",
    "plt.plot(Ebr_vali, np.squeeze(E_vali), '*g', Ebr_vali, Ebr_vali, '*b')\n",
    "plt.show()\n",
    "\n",
    "mse = mean_squared_error(E_train, clf.predict(G_train_scaled))\n",
    "print(\"MSE: %.4f\" % mse)"
   ]
  },
  {
   "cell_type": "code",
   "execution_count": 5,
   "metadata": {
    "collapsed": false
   },
   "outputs": [
    {
     "name": "stdout",
     "output_type": "stream",
     "text": [
      "(100, 1)\n"
     ]
    }
   ],
   "source": [
    "print E_vali.shape\n",
    "E_vali1d= np.squeeze(E_vali)"
   ]
  },
  {
   "cell_type": "code",
   "execution_count": 6,
   "metadata": {
    "collapsed": false
   },
   "outputs": [
    {
     "name": "stdout",
     "output_type": "stream",
     "text": [
      "(100,)\n"
     ]
    }
   ],
   "source": [
    "E_b= clf.predict(G_vali_scaled)\n",
    "print E_b.shape"
   ]
  },
  {
   "cell_type": "code",
   "execution_count": 7,
   "metadata": {
    "collapsed": false
   },
   "outputs": [
    {
     "name": "stdout",
     "output_type": "stream",
     "text": [
      "31.8250433378\n"
     ]
    }
   ],
   "source": [
    "print np.average(np.abs(np.subtract(E_vali1d, E_b)))"
   ]
  },
  {
   "cell_type": "code",
   "execution_count": 14,
   "metadata": {
    "collapsed": false
   },
   "outputs": [
    {
     "name": "stdout",
     "output_type": "stream",
     "text": [
      "144.19859232\n",
      "0.0614917301748\n",
      "37.4339032007\n"
     ]
    },
    {
     "data": {
      "image/png": "[encoded data removed]",
      "text/plain": [
       "<matplotlib.figure.Figure at 0x7fe08d0828d0>"
      ]
     },
     "metadata": {},
     "output_type": "display_data"
    }
   ],
   "source": [
    "diff_vali= np.abs(np.subtract(Ebr_vali, np.squeeze(E_vali)))\n",
    "print np.max(diff_vali)\n",
    "print np.min(diff_vali)\n",
    "diff_vali_aver= np.average(diff_vali)\n",
    "print diff_vali_aver\n",
    "\n",
    "n, bins, patches = plt.hist(diff_vali, 300, facecolor='g', alpha=0.75)\n",
    "plt.axis([0.0, 2.0, 0, 0.15])\n",
    "for item in patches:\n",
    "    item.set_height(item.get_height()/sum(n))\n",
    "plt.show()"
   ]
  },
  {
   "cell_type": "code",
   "execution_count": 65,
   "metadata": {
    "collapsed": false
   },
   "outputs": [],
   "source": [
    "np.save('../analysis/diff_vali_grad_bost_X_oni_48', diff_vali)"
   ]
  },
  {
   "cell_type": "code",
   "execution_count": 15,
   "metadata": {
    "collapsed": false
   },
   "outputs": [
    {
     "data": {
      "image/png": "[encoded data removed]",
      "text/plain": [
       "<matplotlib.figure.Figure at 0x7fe08d002890>"
      ]
     },
     "metadata": {},
     "output_type": "display_data"
    }
   ],
   "source": [
    "plt.plot(Ebr_vali, np.squeeze(E_vali), '*g')\n",
    "plt.show()"
   ]
  },
  {
   "cell_type": "code",
   "execution_count": null,
   "metadata": {
    "collapsed": true
   },
   "outputs": [],
   "source": []
  }
 ],
 "metadata": {
  "kernelspec": {
   "display_name": "Python [conda root]",
   "language": "python",
   "name": "conda-root-py"
  },
  "language_info": {
   "codemirror_mode": {
    "name": "ipython",
    "version": 2
   },
   "file_extension": ".py",
   "mimetype": "text/x-python",
   "name": "python",
   "nbconvert_exporter": "python",
   "pygments_lexer": "ipython2",
   "version": "2.7.13"
  }
 },
 "nbformat": 4,
 "nbformat_minor": 2
}
